{
 "cells": [
  {
   "cell_type": "code",
   "execution_count": null,
   "id": "edf9ba3c-c3eb-4bdd-bf7d-ff52d631cb2a",
   "metadata": {},
   "outputs": [],
   "source": [
    "import os, json\n",
    "import pandas as pd, numpy as np \n",
    "\n",
    "os.chdir('/home/jovyan/work/')\n",
    "indatadir = os.path.join('personas_code', 'data_ext')"
   ]
  },
  {
   "cell_type": "markdown",
   "id": "f559a073-70ff-4cc5-ba6d-89f8cd20ca0f",
   "metadata": {},
   "source": [
    "### language detection"
   ]
  },
  {
   "cell_type": "code",
   "execution_count": null,
   "id": "c469da70-7040-4a2e-9f48-9f293828a24c",
   "metadata": {},
   "outputs": [],
   "source": [
    "!pip install langdetect\n",
    "from langdetect import detect_langs"
   ]
  },
  {
   "cell_type": "markdown",
   "id": "f813dca3-bcf6-476c-b180-12fa473148f1",
   "metadata": {},
   "source": [
    "load personas"
   ]
  },
  {
   "cell_type": "code",
   "execution_count": null,
   "id": "770c5df7-e68e-48db-988a-8b46edbbf9d4",
   "metadata": {},
   "outputs": [],
   "source": [
    "pd_personas = pd.read_pickle(os.path.join(indatadir, 'personas.pkl'))"
   ]
  },
  {
   "cell_type": "markdown",
   "id": "7d88a55c-5499-4812-baca-91390b261d5a",
   "metadata": {},
   "source": [
    "run langdetect"
   ]
  },
  {
   "cell_type": "code",
   "execution_count": null,
   "id": "2265d19d-3034-4b6e-a003-d1c257205138",
   "metadata": {},
   "outputs": [],
   "source": [
    "%%time\n",
    "all_langs, first_lang, first_conf = [], [], []\n",
    "\n",
    "for i,row in pd_personas.iterrows():\n",
    "    try:\n",
    "        all_langs.append(detect_langs(row['persona']))\n",
    "    except:\n",
    "        all_langs.append(None)"
   ]
  },
  {
   "cell_type": "markdown",
   "id": "f3b228b4-2e67-4bac-acd2-6be6c18bc15f",
   "metadata": {},
   "source": [
    "extract predicted languages and probability scores"
   ]
  },
  {
   "cell_type": "code",
   "execution_count": null,
   "id": "b9c90f79-c0bf-436b-a1b7-43a4addabe43",
   "metadata": {},
   "outputs": [],
   "source": [
    "first_lang = [l[0].lang if l else None for l in all_langs]\n",
    "first_conf = [l[0].prob if l else None for l in all_langs]\n",
    "\n",
    "pd_personas['lang'] = first_lang\n",
    "pd_personas['conf'] = first_conf\n",
    "\n",
    "pd_personas['all_langs'] = all_langs"
   ]
  },
  {
   "cell_type": "code",
   "execution_count": null,
   "id": "c6aadcd5-7f94-4c2e-bfc0-b4b6b5520bcb",
   "metadata": {},
   "outputs": [],
   "source": [
    "pd_personas.to_pickle(os.path.join(indatadir, 'persona_languages.pkl'))"
   ]
  },
  {
   "cell_type": "markdown",
   "id": "d47c289f-ba05-4bdd-bb6b-5e43870e420b",
   "metadata": {},
   "source": [
    "manually explore predicted and actual languages"
   ]
  },
  {
   "cell_type": "code",
   "execution_count": null,
   "id": "dcc6126b-5db6-4667-9ec2-afc89f2cdba4",
   "metadata": {},
   "outputs": [],
   "source": [
    "pd_personas = pd.read_pickle(os.path.join(indatadir, 'persona_languages.pkl'))"
   ]
  },
  {
   "cell_type": "markdown",
   "id": "c8b89acc-20f6-466b-afba-cacc611765a2",
   "metadata": {},
   "source": [
    "languages classified as english with low confidence are not a problem; even if the confidence is lower than 0.5 and the first classified language is english, the samples are still english"
   ]
  },
  {
   "cell_type": "code",
   "execution_count": null,
   "id": "9d4859fd-ad2d-49d9-b5e9-a13626bbf038",
   "metadata": {},
   "outputs": [],
   "source": [
    "len(pd_personas[(pd_personas['lang']=='en')&(pd_personas['conf']<0.5)])"
   ]
  },
  {
   "cell_type": "code",
   "execution_count": null,
   "id": "776c8854-2526-4938-b249-d33e2a884bcb",
   "metadata": {},
   "outputs": [],
   "source": [
    "pd_personas[(pd_personas['lang']=='en')&(pd_personas['conf']<0.5)].head()"
   ]
  },
  {
   "cell_type": "markdown",
   "id": "2fdf9d07-6f9f-43e5-a16f-357dc86e1f0e",
   "metadata": {},
   "source": [
    "languages classified as non-english are a problem; there are some english personas between them"
   ]
  },
  {
   "cell_type": "code",
   "execution_count": null,
   "id": "03c9c009-a411-4e97-882e-8e3fa9ae9bd9",
   "metadata": {},
   "outputs": [],
   "source": [
    "pd_foreign = pd_personas[pd_personas['lang']!='en']"
   ]
  },
  {
   "cell_type": "code",
   "execution_count": null,
   "id": "70ac1140-d0c5-4f96-8484-5f4ba38be6d6",
   "metadata": {},
   "outputs": [],
   "source": [
    "len(pd_foreign)"
   ]
  },
  {
   "cell_type": "markdown",
   "id": "855af99b-d9e2-41d4-bd04-e02ff78e0bf3",
   "metadata": {},
   "source": [
    "all personas that are zh-cn, ko, ru, zh-tw, ja and th are correctly identified as clearly non-english"
   ]
  },
  {
   "cell_type": "code",
   "execution_count": null,
   "id": "1beca0ec-0536-448d-9d44-49daf29132b4",
   "metadata": {},
   "outputs": [],
   "source": [
    "len(pd_foreign[(pd_foreign['lang']=='zh-cn')])"
   ]
  },
  {
   "cell_type": "code",
   "execution_count": null,
   "id": "180ae7dc-7bd3-4ad8-b732-665d54e429e0",
   "metadata": {},
   "outputs": [],
   "source": [
    "len(pd_foreign[(pd_foreign['lang']=='ko')])"
   ]
  },
  {
   "cell_type": "code",
   "execution_count": null,
   "id": "2f72847f-b1f2-4c2f-bd16-96597e81138b",
   "metadata": {},
   "outputs": [],
   "source": [
    "len(pd_foreign[(pd_foreign['lang']=='ru')])"
   ]
  },
  {
   "cell_type": "code",
   "execution_count": null,
   "id": "765b2f89-128f-48aa-84f9-6fa824f0efa5",
   "metadata": {},
   "outputs": [],
   "source": [
    "len(pd_foreign[(pd_foreign['lang']=='zh-tw')])"
   ]
  },
  {
   "cell_type": "code",
   "execution_count": null,
   "id": "5698c85e-f5f5-4a3f-8a0b-1da34b57c9cb",
   "metadata": {},
   "outputs": [],
   "source": [
    "len(pd_foreign[(pd_foreign['lang']=='ja')])"
   ]
  },
  {
   "cell_type": "code",
   "execution_count": null,
   "id": "50b1e03a-7c1c-44b6-870b-1ca8d1f56ab9",
   "metadata": {},
   "outputs": [],
   "source": [
    "len(pd_foreign[(pd_foreign['lang']=='th')])"
   ]
  },
  {
   "cell_type": "code",
   "execution_count": null,
   "id": "783e650b-b45e-4bd1-893f-bf014a4acacb",
   "metadata": {},
   "outputs": [],
   "source": [
    "pd_foreign = pd_foreign[~pd_foreign['lang'].isin(['zh-cn','zh-tw','ko','ru','ja','th'])]"
   ]
  },
  {
   "cell_type": "markdown",
   "id": "2ed7687d-fb51-4d21-b3a4-135e582ba857",
   "metadata": {},
   "source": [
    "2000 candidates for falsely flagged as non-english left"
   ]
  },
  {
   "cell_type": "code",
   "execution_count": null,
   "id": "59b1aed4-2fb3-4c87-ba8c-76ef20196f00",
   "metadata": {},
   "outputs": [],
   "source": [
    "len(pd_foreign)"
   ]
  },
  {
   "cell_type": "markdown",
   "id": "3a863a60-6d1e-4439-9b9a-edcbe103b9f5",
   "metadata": {},
   "source": [
    "all those with language ro are english"
   ]
  },
  {
   "cell_type": "code",
   "execution_count": null,
   "id": "a8f70eec-67ab-44d1-9779-bf458bd11b87",
   "metadata": {},
   "outputs": [],
   "source": [
    "len(pd_foreign[pd_foreign['lang']=='ro'])"
   ]
  },
  {
   "cell_type": "code",
   "execution_count": null,
   "id": "0054e8f5-68b3-4fb4-ab57-e33604f9d11f",
   "metadata": {},
   "outputs": [],
   "source": [
    "pd_foreign[(pd_foreign['lang']=='ro')].sample(5)"
   ]
  },
  {
   "cell_type": "code",
   "execution_count": null,
   "id": "3b3cc4c8-c49b-4995-a5d9-1e7b884a829f",
   "metadata": {},
   "outputs": [],
   "source": [
    "pd_keep = pd.DataFrame()"
   ]
  },
  {
   "cell_type": "code",
   "execution_count": null,
   "id": "d71db077-5fb7-4f31-9486-29930f062c55",
   "metadata": {},
   "outputs": [],
   "source": [
    "pd_keep = pd_foreign[(pd_foreign['lang']=='ro')]"
   ]
  },
  {
   "cell_type": "code",
   "execution_count": null,
   "id": "e3ff52c9-106a-4fe2-8230-4c997a5300a0",
   "metadata": {},
   "outputs": [],
   "source": [
    "pd_foreign = pd_foreign[(pd_foreign['lang']!='ro')]"
   ]
  },
  {
   "cell_type": "code",
   "execution_count": null,
   "id": "dc4c9e14-9949-4f8b-9f82-c62fc80bf13f",
   "metadata": {},
   "outputs": [],
   "source": [
    "len(pd_keep)"
   ]
  },
  {
   "cell_type": "code",
   "execution_count": null,
   "id": "83404e6b-e1cc-47a9-96d8-ef78401bbe6f",
   "metadata": {},
   "outputs": [],
   "source": [
    "len(pd_foreign)"
   ]
  },
  {
   "cell_type": "markdown",
   "id": "326b78bc-f9f0-4b78-9f5c-ec6844a946d1",
   "metadata": {},
   "source": [
    "all those with confidence lower < 0.7 are english"
   ]
  },
  {
   "cell_type": "code",
   "execution_count": null,
   "id": "297d639f-2ed1-4bfa-9b06-bd2419d90ba6",
   "metadata": {},
   "outputs": [],
   "source": [
    "len(pd_foreign[pd_foreign['conf']<0.7])"
   ]
  },
  {
   "cell_type": "code",
   "execution_count": null,
   "id": "bb627cad-1615-4916-8af9-967e536fbe2c",
   "metadata": {},
   "outputs": [],
   "source": [
    "pd_foreign[pd_foreign['conf']<0.7].sample(5)"
   ]
  },
  {
   "cell_type": "code",
   "execution_count": null,
   "id": "0985b635-5fa9-4d8a-96e4-f12d77ecb14b",
   "metadata": {},
   "outputs": [],
   "source": [
    "pd_keep = pd.concat([pd_keep, pd_foreign[pd_foreign['conf']<0.7]])"
   ]
  },
  {
   "cell_type": "code",
   "execution_count": null,
   "id": "ceee4989-fb9f-4bd4-ac4d-abda9a698e7b",
   "metadata": {},
   "outputs": [],
   "source": [
    "pd_foreign = pd_foreign[pd_foreign['conf']>=0.7]"
   ]
  },
  {
   "cell_type": "code",
   "execution_count": null,
   "id": "cd27024c-5834-4cf9-be0b-490931e46ebd",
   "metadata": {},
   "outputs": [],
   "source": [
    "len(pd_keep)"
   ]
  },
  {
   "cell_type": "code",
   "execution_count": null,
   "id": "7d50af59-aadd-4ad9-a717-58e4185b68c2",
   "metadata": {},
   "outputs": [],
   "source": [
    "len(pd_foreign)"
   ]
  },
  {
   "cell_type": "markdown",
   "id": "482df96a-1cbe-4e8c-bb6c-f05a9bb986ea",
   "metadata": {},
   "source": [
    "all those with english as second detected language are english"
   ]
  },
  {
   "cell_type": "code",
   "execution_count": null,
   "id": "e8b5c0c6-18c7-47ea-b830-51b8ab630076",
   "metadata": {},
   "outputs": [],
   "source": [
    "pd_foreign['second'] = [l[1].lang if len(l) > 1 else None for l in pd_foreign['all_langs']]"
   ]
  },
  {
   "cell_type": "code",
   "execution_count": null,
   "id": "3af8ddf1-2755-40b5-8cb2-8c075ea37403",
   "metadata": {},
   "outputs": [],
   "source": [
    "len(pd_foreign[pd_foreign['second']=='en'])"
   ]
  },
  {
   "cell_type": "code",
   "execution_count": null,
   "id": "330b5c3b-6162-420a-80e9-d9b17706253e",
   "metadata": {},
   "outputs": [],
   "source": [
    "pd_foreign[pd_foreign['second']=='en'].sample(5)"
   ]
  },
  {
   "cell_type": "code",
   "execution_count": null,
   "id": "d3968245-6394-414f-9df6-ef4a9f390e7a",
   "metadata": {},
   "outputs": [],
   "source": [
    "pd_keep = pd.concat([pd_keep, pd_foreign[pd_foreign['second']=='en'].drop('second', axis=1)])"
   ]
  },
  {
   "cell_type": "code",
   "execution_count": null,
   "id": "37bf5f00-d4cc-4528-8a2a-b8181ee87217",
   "metadata": {},
   "outputs": [],
   "source": [
    "pd_foreign = pd_foreign[pd_foreign['second']!='en']"
   ]
  },
  {
   "cell_type": "code",
   "execution_count": null,
   "id": "56c11cbf-2c02-47eb-9be6-f6628bbb97fd",
   "metadata": {},
   "outputs": [],
   "source": [
    "len(pd_keep)"
   ]
  },
  {
   "cell_type": "code",
   "execution_count": null,
   "id": "c581cf1d-99a4-4297-b572-4c5cbff3bb59",
   "metadata": {},
   "outputs": [],
   "source": [
    "len(pd_foreign)"
   ]
  },
  {
   "cell_type": "markdown",
   "id": "b259d07f-45b4-433a-9f54-ee82a918f4a1",
   "metadata": {},
   "source": [
    "export remaining 965 instances for manual annotation"
   ]
  },
  {
   "cell_type": "code",
   "execution_count": null,
   "id": "bd754b1c-eea9-447d-9e2a-79c42804ad45",
   "metadata": {},
   "outputs": [],
   "source": [
    "pd_foreign = pd_foreign.sort_values('conf', ascending=True)"
   ]
  },
  {
   "cell_type": "code",
   "execution_count": null,
   "id": "ba815633-2e56-4bc8-8faa-6a717dc899bf",
   "metadata": {},
   "outputs": [],
   "source": [
    "pd_foreign.to_excel(os.path.join(indatadir, 'manual_check_lang.xlsx'))"
   ]
  },
  {
   "cell_type": "markdown",
   "id": "64e5e31a-354e-4bc2-9e4f-3d30dc3266c6",
   "metadata": {},
   "source": [
    "import annotated data"
   ]
  },
  {
   "cell_type": "code",
   "execution_count": null,
   "id": "2cca23d3-6c40-4dac-99e9-d762a246d030",
   "metadata": {},
   "outputs": [],
   "source": [
    "pd_foreign = pd.read_excel(os.path.join('manual_check_lang.xlsx', index_col=0))"
   ]
  },
  {
   "cell_type": "code",
   "execution_count": null,
   "id": "5c1d2a94-fd0d-487b-8547-4189f886b01e",
   "metadata": {},
   "outputs": [],
   "source": [
    "len(pd_foreign)"
   ]
  },
  {
   "cell_type": "code",
   "execution_count": null,
   "id": "c0077741-fe86-457b-a3ad-200baf4628bc",
   "metadata": {},
   "outputs": [],
   "source": [
    "len(pd_foreign[pd_foreign['keep']==1])"
   ]
  },
  {
   "cell_type": "code",
   "execution_count": null,
   "id": "6da974b8-66b1-478f-bc6d-807b8d060947",
   "metadata": {},
   "outputs": [],
   "source": [
    "pd_keep = pd.concat([pd_keep, pd_foreign[pd_foreign['keep']==1]])"
   ]
  },
  {
   "cell_type": "code",
   "execution_count": null,
   "id": "225246ba-1c66-43f2-ae2f-ecf381e10a37",
   "metadata": {},
   "outputs": [],
   "source": [
    "len(pd_keep)"
   ]
  },
  {
   "cell_type": "markdown",
   "id": "38c21681-3d09-4ac5-8f74-c0f0013ccabe",
   "metadata": {},
   "source": [
    "re-initialize pd_foreign and drop all in pd_keep"
   ]
  },
  {
   "cell_type": "code",
   "execution_count": null,
   "id": "37aed1ac-20a3-4e15-bff8-c3da83b4ad25",
   "metadata": {},
   "outputs": [],
   "source": [
    "pd_foreign = pd_personas[pd_personas['lang']!='en']"
   ]
  },
  {
   "cell_type": "code",
   "execution_count": null,
   "id": "98f5f3c9-c7c4-4412-9b81-70778a6f128e",
   "metadata": {},
   "outputs": [],
   "source": [
    "len(pd_foreign[pd_foreign['personaId'].isin(pd_keep['personaId'])])"
   ]
  },
  {
   "cell_type": "markdown",
   "id": "13d44c1f-0dd0-437b-ad19-3582d40f7bd8",
   "metadata": {},
   "source": [
    "remove those that are to be kept"
   ]
  },
  {
   "cell_type": "code",
   "execution_count": null,
   "id": "a35010fd-c943-400a-b25b-cd21e23417b9",
   "metadata": {},
   "outputs": [],
   "source": [
    "pd_to_delete = pd_foreign[~pd_foreign['personaId'].isin(pd_keep['personaId'])]"
   ]
  },
  {
   "cell_type": "code",
   "execution_count": null,
   "id": "61bb1c26-249b-423b-ad0d-684d81e07ba7",
   "metadata": {},
   "outputs": [],
   "source": [
    "len(pd_to_delete)"
   ]
  },
  {
   "cell_type": "code",
   "execution_count": null,
   "id": "2973fca0-0b4a-4ade-b0e5-5c3597c50429",
   "metadata": {},
   "outputs": [],
   "source": [
    "pd_to_delete.sample(25)"
   ]
  },
  {
   "cell_type": "markdown",
   "id": "5a65729b-0277-450a-8e35-fc137019d8b1",
   "metadata": {},
   "source": [
    "remove non-english instances from pd_personas"
   ]
  },
  {
   "cell_type": "code",
   "execution_count": null,
   "id": "a9df1e47-8998-4de7-a7f9-0d878aaefc7d",
   "metadata": {},
   "outputs": [],
   "source": [
    "pd_personas = pd.read_pickle(os.path.join(indatadir, 'personas.pkl'))"
   ]
  },
  {
   "cell_type": "code",
   "execution_count": null,
   "id": "4e53d03d-b398-48c3-8ef7-8aa991a3f36f",
   "metadata": {},
   "outputs": [],
   "source": [
    "pd_personas = pd_personas[~pd_personas['personaId'].isin(pd_to_delete['personaId'])]"
   ]
  },
  {
   "cell_type": "code",
   "execution_count": null,
   "id": "1f58fc18-96b2-4a19-98f4-f80e3dca9efe",
   "metadata": {},
   "outputs": [],
   "source": [
    "len(pd_personas)"
   ]
  },
  {
   "cell_type": "code",
   "execution_count": null,
   "id": "e1e9586f-10ad-49c1-a3f9-6cba0a6db297",
   "metadata": {},
   "outputs": [],
   "source": [
    "pd_personas['personaIndex'] = pd_personas.index\n",
    "pd_personas = pd_personas.reset_index(drop=True)\n",
    "pd_personas = pd_personas[['personaId','personaIndex','persona']]\n",
    "pd_personas = pd_personas.astype({'personaId': int, 'personaIndex': int})\n",
    "pd_personas.head()"
   ]
  },
  {
   "cell_type": "code",
   "execution_count": null,
   "id": "7c809690-3dbb-45cf-9a87-b63bb40834c3",
   "metadata": {},
   "outputs": [],
   "source": [
    "pd_personas.to_pickle(os.path.join(indatadir, 'pd_personas_cleaned.pkl'))"
   ]
  },
  {
   "cell_type": "code",
   "execution_count": null,
   "id": "9412de24-24ec-44ef-993d-637a39e4c54a",
   "metadata": {},
   "outputs": [],
   "source": [
    "from llama_cpp import Llama\n",
    "import outlines\n",
    "import gc"
   ]
  },
  {
   "cell_type": "code",
   "execution_count": null,
   "id": "297be427-c4b4-4a8a-9aa8-29022f16ea97",
   "metadata": {},
   "outputs": [],
   "source": [
    "def create_prompt(persona):\n",
    "    return f'<TASK> Your task is to decide whether the persona described in the following text is human or non-human, e.g., an animal or an object. Respond with \"human\" if the described persona is human and \"non-human\" if the described persona is non-human. <PERSONA> {persona}. <RESPONSE> '"
   ]
  },
  {
   "cell_type": "code",
   "execution_count": null,
   "id": "2861d736-4f9c-473c-b56c-b4a9bdbfb748",
   "metadata": {},
   "outputs": [],
   "source": [
    "def create_long_prompt(persona):\n",
    "    return f'<TASK> Your task is to decide whether the persona described in the following text is an individual human or something else. Respond with \"human\" if the described persona is human, \"animal\" if the described persona is an animal, \"object\" if the described persona is an object, \"institution or group\" if the described persona is an institution or a group of individuals, and \"other\" if the described persona is any other type of non-human entity. <PERSONA> {persona}. <RESPONSE> '"
   ]
  },
  {
   "cell_type": "code",
   "execution_count": null,
   "id": "9b4e8531-2a40-4263-a21f-f0d16894e52d",
   "metadata": {},
   "outputs": [],
   "source": [
    "def get_prediction(prompt, generator, verbose = False):\n",
    "    answer = generator(prompt)\n",
    "    if verbose == True:\n",
    "        print(prompt)\n",
    "        print(answer)\n",
    "    return answer   \n",
    "\n",
    "def load_llm(model_, choices):\n",
    "    llm = Llama(\n",
    "        model_path = 'models/'+model_[1],\n",
    "        n_gpu_layers = -1, \n",
    "        # n_ctx = 2048, \n",
    "        logits_all = False,\n",
    "        verbose = False)\n",
    "    model = outlines.models.LlamaCpp(llm)\n",
    "    generator = outlines.generate.choice(model, choices)\n",
    "    return generator\n",
    "\n",
    "def annotate_data(prompts, generator):\n",
    "    llm_labels = []\n",
    "    for prompt in prompts:\n",
    "        llm_labels.append(get_prediction(prompt, generator))\n",
    "    return llm_labels"
   ]
  },
  {
   "cell_type": "code",
   "execution_count": null,
   "id": "802d32df-1b7f-4599-a901-54ef27a50c8d",
   "metadata": {},
   "outputs": [],
   "source": [
    "model_dir = 'ggml-mistral-model-f16.gguf'\n",
    "model_name = 'Mistral7B'\n",
    "\n",
    "model_ = (model_name, model_dir)\n",
    "\n",
    "choices_binary = ['TRUE', 'FALSE']\n",
    "choices_scale = ['1', '2', '3', '4', '5']\n",
    "choices_human = ['non-human', 'human']\n",
    "choices_other = ['human', 'animal', 'object', 'institution or group', 'other']\n",
    "\n",
    "generator_human = load_llm(model_, choices_other)\n",
    "# generator_scale = load_llm(model_, choices_scale)"
   ]
  },
  {
   "cell_type": "code",
   "execution_count": null,
   "id": "d861d770-0dd3-42d0-8def-0763dfddeec0",
   "metadata": {},
   "outputs": [],
   "source": [
    "list_personas = list(pd_personas['persona'])"
   ]
  },
  {
   "cell_type": "code",
   "execution_count": null,
   "id": "0f04eb37-3228-446d-944b-266406f905a5",
   "metadata": {},
   "outputs": [],
   "source": [
    "%time list_verdicts = [get_prediction(create_long_prompt(persona), generator_human) for persona in list_personas[:1000]]"
   ]
  },
  {
   "cell_type": "code",
   "execution_count": null,
   "id": "8c35153e-5ada-475d-869f-bc7eef7caa7d",
   "metadata": {},
   "outputs": [],
   "source": [
    "pd_test = pd.DataFrame(list_personas[:1000], columns=['persona'])"
   ]
  },
  {
   "cell_type": "code",
   "execution_count": null,
   "id": "1db06cd8-642d-4abd-bc82-5f8296282f26",
   "metadata": {},
   "outputs": [],
   "source": [
    "pd_test['verdict'] = list_verdicts"
   ]
  },
  {
   "cell_type": "code",
   "execution_count": null,
   "id": "8b9499d1-048b-4158-9635-6fb648020822",
   "metadata": {},
   "outputs": [],
   "source": [
    "pd_test.to_excel('HUMAN_TEST_NEW.xlsx')"
   ]
  },
  {
   "cell_type": "code",
   "execution_count": null,
   "id": "003a27a8-2e90-4185-b427-f60ebee39aab",
   "metadata": {},
   "outputs": [],
   "source": [
    "pd_test"
   ]
  },
  {
   "cell_type": "code",
   "execution_count": null,
   "id": "d46c7b17-187c-4937-b8e9-9873dcdb3bef",
   "metadata": {},
   "outputs": [],
   "source": [
    "get_prediction(create_prompt('a biology teacher at the local high school'), generator_human)"
   ]
  },
  {
   "cell_type": "code",
   "execution_count": null,
   "id": "6890d53a-8505-4b2b-bd24-6aaa03b76eff",
   "metadata": {},
   "outputs": [],
   "source": [
    "get_prediction(create_prompt('a bot-like researcher working on automation and autonomy'), generator_human)"
   ]
  },
  {
   "cell_type": "code",
   "execution_count": null,
   "id": "15831257-37ad-40a0-8ff6-50d340b45467",
   "metadata": {},
   "outputs": [],
   "source": [
    "get_prediction(create_prompt('a brazilian jumping spider afraid of rats'), generator_human)"
   ]
  },
  {
   "cell_type": "code",
   "execution_count": null,
   "id": "5226a535-cba7-4115-991b-edcd3ea698ab",
   "metadata": {},
   "outputs": [],
   "source": [
    "get_prediction(create_prompt('a bi-sexual unicorn with a peanut kink'), generator_human)"
   ]
  },
  {
   "cell_type": "code",
   "execution_count": null,
   "id": "a4b927da-2e92-4c81-993f-d6b27e92db1a",
   "metadata": {},
   "outputs": [],
   "source": [
    "get_prediction(create_prompt('a intelligent bot able to converse with humans'), generator_human)"
   ]
  }
 ],
 "metadata": {
  "kernelspec": {
   "display_name": "Python 3 (ipykernel)",
   "language": "python",
   "name": "python3"
  },
  "language_info": {
   "codemirror_mode": {
    "name": "ipython",
    "version": 3
   },
   "file_extension": ".py",
   "mimetype": "text/x-python",
   "name": "python",
   "nbconvert_exporter": "python",
   "pygments_lexer": "ipython3",
   "version": "3.11.9"
  }
 },
 "nbformat": 4,
 "nbformat_minor": 5
}

{
 "cells": [
  {
   "cell_type": "code",
   "execution_count": null,
   "id": "096cd6b5-290e-47f7-86f8-4307e417da11",
   "metadata": {},
   "outputs": [],
   "source": [
    "import os, json, time, pickle\n",
    "import pandas as pd, numpy as np \n",
    "import matplotlib.pyplot as plt\n",
    "\n",
    "os.chdir('/home/jovyan/work/')\n",
    "\n",
    "modelname = 'mistral_'\n",
    "indatadir = os.path.join('personas', 'mistraldata_llm_3_4')\n",
    "outdatadir = os.path.join('personas', 'mistral_study_3')\n",
    "resultsdir = os.path.join('personas', 'mistralresults')"
   ]
  },
  {
   "cell_type": "markdown",
   "id": "e202dbac-eaae-456e-9565-f08c9641f8c8",
   "metadata": {},
   "source": [
    "### load 200,000 persona annotations // create label embedding space"
   ]
  },
  {
   "cell_type": "code",
   "execution_count": null,
   "id": "617cbbe5-f96e-46db-ae58-096ab87242e6",
   "metadata": {},
   "outputs": [],
   "source": [
    "pd_personas = pd.read_pickle('personas/data_ext/pd_personas_clustered.pkl')"
   ]
  },
  {
   "cell_type": "code",
   "execution_count": null,
   "id": "fee68dad-072e-4b07-b667-109283401d47",
   "metadata": {},
   "outputs": [],
   "source": [
    "pd_personas.head(2)"
   ]
  },
  {
   "cell_type": "code",
   "execution_count": null,
   "id": "e847fef8-e11d-4abc-bb79-d3d30ca296e2",
   "metadata": {},
   "outputs": [],
   "source": [
    "pd_personas_labels = pd.DataFrame()\n",
    "\n",
    "for file_ in os.listdir(os.path.join(indatadir,'runs')):\n",
    "    pd_in = pd.read_pickle(os.path.join(indatadir,'runs',file_))\n",
    "    pd_out = pd.DataFrame([int(p.split('_')[1]) for p in pd_in.iloc[:,3:].sum().index], columns=['personaId'])\n",
    "    codes_ = []\n",
    "    for code_ in pd_in.iloc[:,3:].sum().values:\n",
    "        codes_.append([int(i) for i in code_])\n",
    "    pd_out['labels'] = codes_\n",
    "    pd_personas_labels = pd.concat([pd_personas_labels, pd_out])"
   ]
  },
  {
   "cell_type": "code",
   "execution_count": null,
   "id": "86f745ad-1c94-4bc7-bd50-b235afe6cd68",
   "metadata": {},
   "outputs": [],
   "source": [
    "pd_personas_labels = pd_personas_labels.sort_values('personaId').reset_index(drop=True)\n",
    "pd_personas_labels.head(2)"
   ]
  },
  {
   "cell_type": "code",
   "execution_count": null,
   "id": "78294c76-fad4-43fb-b3a6-f6900f2396ef",
   "metadata": {},
   "outputs": [],
   "source": [
    "pd_personas = pd_personas.merge(pd_personas_labels, on='personaId', how='left')\n",
    "pd_personas.head()"
   ]
  },
  {
   "cell_type": "code",
   "execution_count": null,
   "id": "871fbd81-d79d-4760-b276-0b3aec260aef",
   "metadata": {},
   "outputs": [],
   "source": [
    "# pd_personas.to_pickle(os.path.join(outdatadir,'pd_personas_labels.pkl'))"
   ]
  },
  {
   "cell_type": "markdown",
   "id": "1f7e5b21-56f8-4de2-b652-da6bece46492",
   "metadata": {},
   "source": [
    "#### augment cluster with average cluster labels"
   ]
  },
  {
   "cell_type": "code",
   "execution_count": null,
   "id": "07d1cdcc-a0ee-4fff-a631-d791e8c2e431",
   "metadata": {},
   "outputs": [],
   "source": [
    "pd_clusters = pd.read_pickle('personas/data_ext/pd_clusters_augmented.pkl')\n",
    "pd_clusters.head(2)"
   ]
  },
  {
   "cell_type": "code",
   "execution_count": null,
   "id": "53fecc99-33c5-46b6-bd14-c0cb736229ba",
   "metadata": {},
   "outputs": [],
   "source": [
    "def get_labels(pd_personas, clusterId):\n",
    "    pd_ = pd_personas[pd_personas['clusterId']==clusterId]\n",
    "    label_mx = []\n",
    "    for l in pd_['labels'].values:\n",
    "        label_mx.append(l)\n",
    "    label_mx = np.matrix(label_mx)\n",
    "    return np.round(label_mx.mean(axis=0),2)"
   ]
  },
  {
   "cell_type": "code",
   "execution_count": null,
   "id": "6b8f80e6-7a82-467c-8804-ac120e2bc695",
   "metadata": {},
   "outputs": [],
   "source": [
    "pd_clusters['cluster_labels'] = [get_labels(pd_personas, clusterId)[0] for clusterId in pd_clusters['clusterId']]"
   ]
  },
  {
   "cell_type": "code",
   "execution_count": null,
   "id": "91cd2b6a-9556-4155-a154-1a6aa497c6da",
   "metadata": {},
   "outputs": [],
   "source": [
    "pd_clusters.head(2)"
   ]
  },
  {
   "cell_type": "code",
   "execution_count": null,
   "id": "46ef2980-ecfc-4256-a3de-6a18c9b78ef1",
   "metadata": {},
   "outputs": [],
   "source": [
    "# pd_clusters.to_pickle(os.path.join(outdatadir,'pd_clusters_labels.pkl'))"
   ]
  },
  {
   "cell_type": "markdown",
   "id": "3985adbe-dcfb-418d-a916-b1b4ac757e8b",
   "metadata": {},
   "source": [
    "### Analysis"
   ]
  },
  {
   "cell_type": "markdown",
   "id": "6093f38e-59cb-4786-b791-27e12ad8f041",
   "metadata": {},
   "source": [
    "#### Persona Clusters --- Intra- and Inter-Cluster Distances"
   ]
  },
  {
   "cell_type": "code",
   "execution_count": null,
   "id": "3cc92d1f-31d9-4e6b-99d1-979d0195af5f",
   "metadata": {},
   "outputs": [],
   "source": [
    "import torch"
   ]
  },
  {
   "cell_type": "code",
   "execution_count": null,
   "id": "38baf78f-4b1a-4822-bc81-26d6e260d415",
   "metadata": {},
   "outputs": [],
   "source": [
    "pd_personas = pd.read_pickle(os.path.join(outdatadir,'pd_personas_labels.pkl'))\n",
    "pd_personas.head(2)"
   ]
  },
  {
   "cell_type": "markdown",
   "id": "1313a737-7997-4850-9f3a-82dd7e524766",
   "metadata": {},
   "source": [
    "load label and persona embeddings"
   ]
  },
  {
   "cell_type": "code",
   "execution_count": null,
   "id": "79a31b10-e944-4c5a-9461-55d688d05685",
   "metadata": {},
   "outputs": [],
   "source": [
    "persona_embeddings = torch.tensor(pd_personas['embed']).float().cpu()\n",
    "label_embeddings = torch.tensor(pd_personas['labels']).float().cpu()"
   ]
  },
  {
   "cell_type": "markdown",
   "id": "014f31ac-c92e-4a8a-b833-0d8cc1f01b0f",
   "metadata": {},
   "source": [
    "load persona clusters"
   ]
  },
  {
   "cell_type": "code",
   "execution_count": null,
   "id": "b23a1d5b-561e-4074-b2b5-0ef1cdea9bbe",
   "metadata": {},
   "outputs": [],
   "source": [
    "pd_clusters = pd.read_pickle('personas/data_ext/pd_clusters.pkl')\n",
    "pd_clusters.head(2)"
   ]
  },
  {
   "cell_type": "markdown",
   "id": "687bfe7f-ba32-4cae-a72e-d4f116987c7f",
   "metadata": {},
   "source": [
    "functionality to calculate cluster distances"
   ]
  },
  {
   "cell_type": "markdown",
   "id": "a09ef302-6992-4db4-a2ec-e993d1f10516",
   "metadata": {},
   "source": [
    "##### Calculate"
   ]
  },
  {
   "cell_type": "code",
   "execution_count": null,
   "id": "9612ba75-6118-4c09-9e33-0772851657a4",
   "metadata": {},
   "outputs": [],
   "source": [
    "from sklearn.metrics.pairwise import cosine_distances\n",
    "\n",
    "def distance_between_clusters(vectors_i, vectors_j):\n",
    "    dists = cosine_distances(vectors_i, vectors_j)**2\n",
    "    return np.mean(dists)\n",
    "\n",
    "def create_distance_matrix(dict_clusters):\n",
    "    cluster_distances = []\n",
    "    for k1, v1 in dict_clusters.items():\n",
    "        dists = []\n",
    "        for k2, v2 in dict_clusters.items():\n",
    "            if k1 > k2:\n",
    "                dists.append(None)\n",
    "            else:\n",
    "                dists.append(distance_between_clusters(v1, v2))\n",
    "        cluster_distances.append(dists)\n",
    "    return cluster_distances\n",
    "\n",
    "def create_full_matrix(mx):\n",
    "    new_mx = np.matrix(mx)\n",
    "    for i in range(new_mx.shape[0]):\n",
    "        for j in range(new_mx.shape[1]):\n",
    "            if i > j:\n",
    "                new_mx[i,j] = mx[j][i]\n",
    "            else:\n",
    "                new_mx[i,j] = mx[i][j]\n",
    "    return new_mx\n",
    "\n",
    "def calculate_cluster_distances(pd_clusters_, persona_embeddings, label_embeddings, lclusters=False):\n",
    "    if not lclusters:\n",
    "        cluster_personas = {i: persona_embeddings[pd_clusters_.iloc[i,2]] for i in range(len(pd_clusters_))}\n",
    "        cluster_labels = {i: label_embeddings[pd_clusters_.iloc[i,2]] for i in range(len(pd_clusters_))}\n",
    "    else:\n",
    "        cluster_personas = {i: persona_embeddings[list(pd_clusters_[pd_clusters_['clusterId_label']==i]['personaIndex'])] for i in range(pd_clusters_['clusterId_label'].max()+1)}\n",
    "        cluster_labels = {i: label_embeddings[list(pd_clusters_[pd_clusters_['clusterId_label']==i]['personaIndex'])] for i in range(pd_clusters_['clusterId_label'].max()+1)}\n",
    "    \n",
    "    cluster_distances_personas = create_distance_matrix(cluster_personas)\n",
    "    cluster_distances_labels = create_distance_matrix(cluster_labels)\n",
    "\n",
    "    cluster_distances_personas_full = create_full_matrix(cluster_distances_personas)\n",
    "    cluster_distances_labels_full = create_full_matrix(cluster_distances_labels)\n",
    "\n",
    "    return cluster_distances_personas_full, cluster_distances_labels_full"
   ]
  },
  {
   "cell_type": "code",
   "execution_count": null,
   "id": "2e041de6-6072-481e-b0b1-7c13622d2665",
   "metadata": {},
   "outputs": [],
   "source": [
    "%time all_dists_personas_full, all_dists_labels_full = calculate_cluster_distances(pd_clusters, persona_embeddings, label_embeddings)"
   ]
  },
  {
   "cell_type": "code",
   "execution_count": null,
   "id": "77520004-8165-49f9-b891-6d78020d4889",
   "metadata": {},
   "outputs": [],
   "source": [
    "all_dists_full = {'personas': all_dists_personas_full, 'labels': all_dists_labels_full}\n",
    "\n",
    "with open(os.path.join(outdatadir,'all_dists_full.pkl'), 'wb') as f:\n",
    "    pickle.dump(all_dists_full, f)"
   ]
  },
  {
   "cell_type": "code",
   "execution_count": null,
   "id": "7ba283eb-9947-4b5c-83df-9f4ecef3e5d2",
   "metadata": {},
   "outputs": [],
   "source": [
    "with open(os.path.join(outdatadir,'all_dists_full.pkl'), 'rb') as f:\n",
    "    all_dists_full = pickle.load(f)\n",
    "\n",
    "all_dists_personas_full = all_dists_full['personas']\n",
    "all_dists_labels_full = all_dists_full['labels']"
   ]
  },
  {
   "cell_type": "code",
   "execution_count": null,
   "id": "b9055e11-71e0-4743-aa9a-7069d0934967",
   "metadata": {},
   "outputs": [],
   "source": [
    "all_dists_personas_full.shape"
   ]
  },
  {
   "cell_type": "markdown",
   "id": "3aa86411-90aa-4049-ac80-2c672409b690",
   "metadata": {},
   "source": [
    "#### Correlations Between Pairwise Distances in Persona- and Label Spaces"
   ]
  },
  {
   "cell_type": "code",
   "execution_count": null,
   "id": "209ed39c-4322-47ab-a571-5d804b9d8048",
   "metadata": {},
   "outputs": [],
   "source": [
    "from sentence_transformers import util\n",
    "from scipy import stats"
   ]
  },
  {
   "cell_type": "code",
   "execution_count": null,
   "id": "3dea2c19-e24c-4433-8436-a7181dcddda2",
   "metadata": {},
   "outputs": [],
   "source": [
    "pd_personas = pd.read_pickle(os.path.join(outdatadir,'pd_personas_labels.pkl'))"
   ]
  },
  {
   "cell_type": "markdown",
   "id": "68ab54fe-e232-4c8d-bf53-19d84a93d8b2",
   "metadata": {},
   "source": [
    "##### Calculate 200k pairwise correlation coefficients"
   ]
  },
  {
   "cell_type": "code",
   "execution_count": null,
   "id": "cef79e3f-8469-4ca8-9789-5a2b869e83ef",
   "metadata": {},
   "outputs": [],
   "source": [
    "pd_personas.head(2)"
   ]
  },
  {
   "cell_type": "code",
   "execution_count": null,
   "id": "51dea952-8b6b-45ca-a155-384d19b02526",
   "metadata": {},
   "outputs": [],
   "source": [
    "labels = pd_personas.iloc[:,-1]\n",
    "personas = pd_personas.iloc[:,-3]"
   ]
  },
  {
   "cell_type": "code",
   "execution_count": null,
   "id": "e925bf8f-eb16-41d9-9935-497dbf280a46",
   "metadata": {},
   "outputs": [],
   "source": [
    "tensor_labels = torch.tensor([l for l in labels]).float()\n",
    "del labels\n",
    "\n",
    "tensor_personas = torch.tensor([l for l in personas]).float()\n",
    "del personas"
   ]
  },
  {
   "cell_type": "code",
   "execution_count": null,
   "id": "f4216871-957d-44c9-a8d1-ec08d78ceb4b",
   "metadata": {},
   "outputs": [],
   "source": [
    "%time dists_labels = util.cos_sim(tensor_labels, tensor_labels)\n",
    "del tensor_labels"
   ]
  },
  {
   "cell_type": "code",
   "execution_count": null,
   "id": "1211764a-d62f-4737-a2e3-6f42d5cd389a",
   "metadata": {},
   "outputs": [],
   "source": [
    "%time dists_personas = util.cos_sim(tensor_personas, tensor_personas)\n",
    "del tensor_personas"
   ]
  },
  {
   "cell_type": "code",
   "execution_count": null,
   "id": "c0ebe0f3-a78e-4de4-9d56-5abae8b204f2",
   "metadata": {},
   "outputs": [],
   "source": [
    "dists_labels.shape"
   ]
  },
  {
   "cell_type": "code",
   "execution_count": null,
   "id": "11ed33f9-f9ac-4f7a-b741-9a59f7d87955",
   "metadata": {},
   "outputs": [],
   "source": [
    "dists_personas.shape"
   ]
  },
  {
   "cell_type": "code",
   "execution_count": null,
   "id": "3820ee8b-e976-4dd9-a5e7-b862a3f50da3",
   "metadata": {},
   "outputs": [],
   "source": [
    "def calc_coeff(func, dists_labels, dists_personas):\n",
    "    coeffs = []\n",
    "    for i in range(dists_labels.shape[0]):\n",
    "        r = func(dists_labels[i], dists_personas[i])\n",
    "        coeffs.append([r.statistic, r.pvalue])\n",
    "    pd_coeffs = pd.DataFrame(coeffs, columns=['statistic','pvalue'])\n",
    "    pd_coeffs['direction'] = ['pos' if s>0 else 'neg' for s in pd_coeffs['statistic']]\n",
    "    return pd_coeffs"
   ]
  },
  {
   "cell_type": "code",
   "execution_count": null,
   "id": "0cce98eb-eadb-422f-a9b1-c4d02a369d4d",
   "metadata": {},
   "outputs": [],
   "source": [
    "pd_pearson = calc_coeff(stats.pearsonr, dists_labels, dists_personas)\n",
    "pd_spearman = calc_coeff(stats.spearmanr, dists_labels, dists_personas)\n",
    "pd_kendall = calc_coeff(stats.kendalltau, dists_labels, dists_personas)"
   ]
  },
  {
   "cell_type": "code",
   "execution_count": null,
   "id": "d6adcbca-63d2-40b0-891d-4de99a4278ae",
   "metadata": {},
   "outputs": [],
   "source": [
    "# pd_pearson.to_pickle(os.path.join(outdatadir,'correlations_pearson.pkl'))\n",
    "# pd_spearman.to_pickle(os.path.join(outdatadir,'correlations_spearman.pkl'))\n",
    "# pd_kendall.to_pickle(os.path.join(outdatadir,'correlations_kendall.pkl'))"
   ]
  },
  {
   "cell_type": "code",
   "execution_count": null,
   "id": "4e75dcb4-3341-4cdb-9bea-7cb24c27cb56",
   "metadata": {},
   "outputs": [],
   "source": [
    "pd_pearson = pd.read_pickle(os.path.join(outdatadir,'correlations_pearson.pkl'))\n",
    "pd_spearman = pd.read_pickle(os.path.join(outdatadir,'correlations_spearman.pkl'))\n",
    "pd_kendall = pd.read_pickle(os.path.join(outdatadir,'correlations_kendall.pkl'))"
   ]
  }
 ],
 "metadata": {
  "kernelspec": {
   "display_name": "Python 3 (ipykernel)",
   "language": "python",
   "name": "python3"
  },
  "language_info": {
   "codemirror_mode": {
    "name": "ipython",
    "version": 3
   },
   "file_extension": ".py",
   "mimetype": "text/x-python",
   "name": "python",
   "nbconvert_exporter": "python",
   "pygments_lexer": "ipython3",
   "version": "3.11.9"
  }
 },
 "nbformat": 4,
 "nbformat_minor": 5
}

{
 "cells": [
  {
   "cell_type": "code",
   "execution_count": null,
   "id": "f238dfef-5367-4f7c-8296-76cb8877cc37",
   "metadata": {},
   "outputs": [],
   "source": [
    "import os, json, time, pickle\n",
    "import pandas as pd, numpy as np \n",
    "import matplotlib.pyplot as plt\n",
    "\n",
    "os.chdir('/home/jovyan/work/')\n",
    "\n",
    "in_qwen = os.path.join('personas', 'qwendata_llm_1_2')\n",
    "out_qwen = os.path.join('personas', 'qwen_study_1_2')\n",
    "\n",
    "in_mistral = os.path.join('personas', 'mistraldata_llm_1_2')\n",
    "out_mistral = os.path.join('personas', 'mistral_study_1_2')"
   ]
  },
  {
   "cell_type": "markdown",
   "id": "44ab2a2b-868c-4e36-8fc5-a4a456e44783",
   "metadata": {},
   "source": [
    "#### Persona Embeddings"
   ]
  },
  {
   "cell_type": "code",
   "execution_count": null,
   "id": "c100fad0-f05c-41fc-a2a3-53ef0f8e4a15",
   "metadata": {},
   "outputs": [],
   "source": [
    "from sentence_transformers import SentenceTransformer, util\n",
    "import accelerate, torch, pickle"
   ]
  },
  {
   "cell_type": "markdown",
   "id": "b897750c-f646-4213-b3a3-81e6e7e6fdd6",
   "metadata": {},
   "source": [
    "use of-the-shelf model"
   ]
  },
  {
   "cell_type": "code",
   "execution_count": null,
   "id": "51c74f21-7a50-4c36-a737-d35607a21efe",
   "metadata": {},
   "outputs": [],
   "source": [
    "persona_model = SentenceTransformer('all-MiniLM-L12-v2')"
   ]
  },
  {
   "cell_type": "markdown",
   "id": "9ac6bc29-4b9b-4d86-890d-6b4cd29d7a7d",
   "metadata": {},
   "source": [
    "load personas"
   ]
  },
  {
   "cell_type": "code",
   "execution_count": null,
   "id": "a5120dcb-ad2e-4209-bfd5-a5ee1f8c5789",
   "metadata": {},
   "outputs": [],
   "source": [
    "pd_personas = pd.read_pickle('personas/data_ext/pd_personas_cleaned.pkl')\n",
    "pd_personas.head(3)"
   ]
  },
  {
   "cell_type": "markdown",
   "id": "7f06fcd2-57e4-43e4-871e-1f6737af77ca",
   "metadata": {},
   "source": [
    "embed personas"
   ]
  },
  {
   "cell_type": "code",
   "execution_count": null,
   "id": "5dc83591-c18b-4d43-be6c-cff302a617f5",
   "metadata": {},
   "outputs": [],
   "source": [
    "%time persona_embeddings = persona_model.encode(list(pd_personas['persona']), convert_to_tensor=True)"
   ]
  },
  {
   "cell_type": "code",
   "execution_count": null,
   "id": "df02340a-8aee-44eb-9911-74f1ad22ea2b",
   "metadata": {},
   "outputs": [],
   "source": [
    "persona_embeddings.shape"
   ]
  },
  {
   "cell_type": "code",
   "execution_count": null,
   "id": "7a4c19df-5d52-4813-9177-293b8dd58d64",
   "metadata": {},
   "outputs": [],
   "source": [
    "len(pd_personas)"
   ]
  },
  {
   "cell_type": "code",
   "execution_count": null,
   "id": "b892f1d7-e972-4328-8330-31adc0f7678c",
   "metadata": {},
   "outputs": [],
   "source": [
    "persona_embeddings = persona_embeddings.cpu()"
   ]
  },
  {
   "cell_type": "code",
   "execution_count": null,
   "id": "6ad2be42-983d-44c3-873d-1fec64b73cd1",
   "metadata": {},
   "outputs": [],
   "source": [
    "pd_personas['embed'] = persona_embeddings.tolist()"
   ]
  },
  {
   "cell_type": "code",
   "execution_count": null,
   "id": "78e88651-6b8c-4183-b75e-64d5e8f2ad20",
   "metadata": {},
   "outputs": [],
   "source": [
    "pd_personas.to_pickle('personas/data_ext/pd_personas_embedded.pkl')"
   ]
  },
  {
   "cell_type": "code",
   "execution_count": null,
   "id": "52b05d13-21a6-4a65-a439-7723dcf96cd5",
   "metadata": {},
   "outputs": [],
   "source": [
    "with open('personas/data_ext/persona_embeddings.pkl', 'wb') as f:\n",
    "    pickle.dump(persona_embeddings,f)"
   ]
  },
  {
   "cell_type": "markdown",
   "id": "2b32db7e-041c-4e32-923c-445cc4fc7171",
   "metadata": {},
   "source": [
    "#### Cluster Persona Embeddings"
   ]
  },
  {
   "cell_type": "code",
   "execution_count": null,
   "id": "186dab5a-ee93-4bbf-8573-daf0f3c0c684",
   "metadata": {},
   "outputs": [],
   "source": [
    "pd.set_option('max_colwidth', 800)\n",
    "\n",
    "def show_cluster(pd_personas, id_):\n",
    "    pd_ = pd_personas[pd_personas['clusterId']==id_]\n",
    "    return pd_[['personaId','persona']]\n",
    "\n",
    "def get_cluster_solutions(embedding, t): # explore number and size of clusters for different thresholds\n",
    "    clusters = util.community_detection(embedding, min_community_size=25, threshold=t)\n",
    "\n",
    "    pd_clusters = pd.DataFrame([i for i in range(len(clusters))], columns=['clusterId'])\n",
    "    pd_clusters['clusterSize'] = [len(c) for c in clusters]\n",
    "    pd_clusters['clusterLists'] = clusters\n",
    "    \n",
    "    return len(pd_clusters), pd_clusters.sum()['clusterSize']"
   ]
  },
  {
   "cell_type": "markdown",
   "id": "7f5cab78-0657-4018-928f-f27759dfe34a",
   "metadata": {},
   "source": [
    "load persona embeddings onto gpu"
   ]
  },
  {
   "cell_type": "code",
   "execution_count": null,
   "id": "b0388e71-cee4-46e3-aba8-f623c3e8773e",
   "metadata": {},
   "outputs": [],
   "source": [
    "pd_personas = pd.read_pickle('personas/data_ext/pd_personas_embedded.pkl')"
   ]
  },
  {
   "cell_type": "code",
   "execution_count": null,
   "id": "25565514-d9de-4899-827f-3c80fbbbed54",
   "metadata": {},
   "outputs": [],
   "source": [
    "persona_embeddings = torch.tensor(pd_personas['embed']).float().cuda()"
   ]
  },
  {
   "cell_type": "code",
   "execution_count": null,
   "id": "7e62d4dc-43db-4475-b8e0-64cf709df0c1",
   "metadata": {},
   "outputs": [],
   "source": [
    "persona_embeddings.shape"
   ]
  },
  {
   "cell_type": "markdown",
   "id": "d821238b-a299-484e-8f63-5af81d721e0f",
   "metadata": {},
   "source": [
    "check number of clusters and number of assigned personas for different thresholds"
   ]
  },
  {
   "cell_type": "code",
   "execution_count": null,
   "id": "711e1724-9224-4088-8220-a16109f824fe",
   "metadata": {},
   "outputs": [],
   "source": [
    "cluster_solutions = []\n",
    "\n",
    "for t in [0.5, 0.55, 0.6, 0.65, 0.7, 0.75]:\n",
    "    n, s = get_cluster_solutions(persona_embeddings, t)\n",
    "    cluster_solutions.append([t, n, s])"
   ]
  },
  {
   "cell_type": "code",
   "execution_count": null,
   "id": "0695b798-b78f-4f2e-a526-147b40c1bdd2",
   "metadata": {},
   "outputs": [],
   "source": [
    "pd_cluster_solutions = pd.DataFrame(cluster_solutions, columns=['thresh', 'n_clusters', 'n_personas'])\n",
    "pd_cluster_solutions"
   ]
  },
  {
   "cell_type": "markdown",
   "id": "0e522b50-c989-4703-b604-ff71aed312cc",
   "metadata": {},
   "source": [
    "fix threshold at 0.6 and produce final clusters"
   ]
  },
  {
   "cell_type": "code",
   "execution_count": null,
   "id": "c2447433-6378-41ee-b903-dc1404d38c04",
   "metadata": {},
   "outputs": [],
   "source": [
    "clusters = util.community_detection(persona_embeddings, min_community_size=25, threshold=0.6)"
   ]
  },
  {
   "cell_type": "code",
   "execution_count": null,
   "id": "2bc02a44-5d8d-4099-bfea-b9d0b7b6d6c4",
   "metadata": {},
   "outputs": [],
   "source": [
    "index2id = {k:v for k,v in zip(pd_personas['personaIndex'], pd_personas['personaId'])}\n",
    "id2index = {k:v for k,v in zip(pd_personas['personaId'], pd_personas['personaIndex'])}"
   ]
  },
  {
   "cell_type": "code",
   "execution_count": null,
   "id": "7bfba1bd-e7a8-4002-ad39-86184101efdd",
   "metadata": {},
   "outputs": [],
   "source": [
    "pd_clusters = pd.DataFrame([i for i in range(len(clusters))], columns=['clusterId'])\n",
    "pd_clusters['clusterSize'] = [len(c) for c in clusters]\n",
    "pd_clusters['personaIndex'] = clusters # clusters with personaIndex\n",
    "\n",
    "true_clusters = [] # clusters with personaId\n",
    "for cluster in clusters:\n",
    "    true_clusters.append([index2id[id_] for id_ in cluster])\n",
    "pd_clusters['personaIds'] = true_clusters"
   ]
  },
  {
   "cell_type": "code",
   "execution_count": null,
   "id": "eba23fd0-d0a2-42fd-91bc-e6024772c48e",
   "metadata": {},
   "outputs": [],
   "source": [
    "len(pd_clusters)"
   ]
  },
  {
   "cell_type": "code",
   "execution_count": null,
   "id": "8364508a-6edd-4a30-9bf7-40051cea9f9c",
   "metadata": {},
   "outputs": [],
   "source": [
    "pd_clusters.sum()['clusterSize']"
   ]
  },
  {
   "cell_type": "code",
   "execution_count": null,
   "id": "285ffbfb-bac5-4fc5-bbb7-8497818bb8b5",
   "metadata": {},
   "outputs": [],
   "source": [
    "pd_clusters.to_pickle('personas/data_ext/pd_clusters.pkl')"
   ]
  },
  {
   "cell_type": "markdown",
   "id": "6b45f11b-4d8f-4e7d-afd0-449258b73feb",
   "metadata": {},
   "source": [
    "merge cluster info to personas"
   ]
  },
  {
   "cell_type": "code",
   "execution_count": null,
   "id": "3d9d0c69-3609-42df-acc3-42ae4f8946f5",
   "metadata": {},
   "outputs": [],
   "source": [
    "personas_in_clusters = []\n",
    "\n",
    "for i, row in pd_clusters.iterrows():\n",
    "    for pid in row['personaIds']:\n",
    "        personas_in_clusters.append([pid, row['clusterId']])\n",
    "\n",
    "pd_personas_in_clusters = pd.DataFrame(personas_in_clusters, columns=['personaId','clusterId'])\n",
    "pd_personas_in_clusters = pd_personas_in_clusters.sort_values('personaId').reset_index(drop=True)\n",
    "\n",
    "pd_personas = pd_personas.merge(pd_personas_in_clusters, on='personaId', how='left')"
   ]
  },
  {
   "cell_type": "markdown",
   "id": "8ab37f16-11de-433e-bf3a-ad3b9cc60f66",
   "metadata": {},
   "source": [
    "set unassigned personas to cluster -1"
   ]
  },
  {
   "cell_type": "code",
   "execution_count": null,
   "id": "3c435f4c-ea0c-4f24-a0e1-a2e0aafffe60",
   "metadata": {},
   "outputs": [],
   "source": [
    "ix_none = list(pd_personas[pd_personas['clusterId'].isnull()].index)\n",
    "pd_personas.iloc[ix_none,-1] = -1\n",
    "pd_personas = pd_personas.astype({'clusterId': int})"
   ]
  },
  {
   "cell_type": "code",
   "execution_count": null,
   "id": "7400e23e-14d5-4259-b852-bb96700305d1",
   "metadata": {},
   "outputs": [],
   "source": [
    "len(pd_personas[pd_personas['clusterId']>-1])"
   ]
  },
  {
   "cell_type": "code",
   "execution_count": null,
   "id": "5166ca3e-0b3a-45c3-8ef4-263ca0df61bf",
   "metadata": {},
   "outputs": [],
   "source": [
    "pd_personas.to_pickle('personas/data_ext/pd_personas_clustered.pkl')"
   ]
  },
  {
   "cell_type": "markdown",
   "id": "aef1f583-4d4e-4d1a-a90e-97e5112026df",
   "metadata": {},
   "source": [
    "inspect clusters"
   ]
  },
  {
   "cell_type": "code",
   "execution_count": null,
   "id": "53c00b25-22a6-4a2e-be86-81e2ee23205a",
   "metadata": {},
   "outputs": [],
   "source": [
    "show_cluster(pd_personas, 209).head()"
   ]
  },
  {
   "cell_type": "markdown",
   "id": "16ab044a-9ab0-4271-8310-c492d463d094",
   "metadata": {},
   "source": [
    "#### Extract ctfidf-terms for Persona Clusters"
   ]
  },
  {
   "cell_type": "code",
   "execution_count": null,
   "id": "0e7c5b71-e665-4412-aa80-6df8df8ee32c",
   "metadata": {},
   "outputs": [],
   "source": [
    "os.chdir('personas')\n",
    "\n",
    "from sklearn.feature_extraction.text import CountVectorizer, TfidfVectorizer\n",
    "from ctfidf import CTFIDFVectorizer\n",
    "\n",
    "os.chdir('..')"
   ]
  },
  {
   "cell_type": "markdown",
   "id": "264400d5-b793-42cb-a278-5b249b04c1be",
   "metadata": {},
   "source": [
    "aggregate persona descriptions based on cluster id "
   ]
  },
  {
   "cell_type": "code",
   "execution_count": null,
   "id": "31de33a2-b9ba-4e11-9af7-0cdc60d9c5dd",
   "metadata": {},
   "outputs": [],
   "source": [
    "pd_personas = pd.read_pickle('personas/data_ext/pd_personas_clustered.pkl')\n",
    "pd_personas.head(2)\n",
    "\n",
    "pd_personas_in_cluster = pd_personas[['personaId','persona','clusterId']]\n",
    "pd_personas_per_cluster = pd_personas_in_cluster.groupby(['clusterId'], as_index=False).agg({'persona': ' '.join})\n",
    "pd_personas_per_cluster = pd_personas_per_cluster.drop(0, axis=0) # drop none cluster"
   ]
  },
  {
   "cell_type": "markdown",
   "id": "afaf2288-cf99-4659-b5d4-0fde493bbf88",
   "metadata": {},
   "source": [
    "create tfidf-matrix on document level"
   ]
  },
  {
   "cell_type": "code",
   "execution_count": null,
   "id": "b313ce87-9f4a-496f-97cb-709f22797882",
   "metadata": {},
   "outputs": [],
   "source": [
    "tfidf_vectorizer = TfidfVectorizer()\n",
    "tfidf = tfidf_vectorizer.fit_transform(pd_personas_per_cluster['persona'])\n",
    "\n",
    "tfidf_dense = tfidf.todense()"
   ]
  },
  {
   "cell_type": "code",
   "execution_count": null,
   "id": "fe3afde5-e626-4222-8cee-48e6bdfe7471",
   "metadata": {},
   "outputs": [],
   "source": [
    "tfidf.shape"
   ]
  },
  {
   "cell_type": "code",
   "execution_count": null,
   "id": "63eb5ca6-487c-46d9-9d5e-67f6e0c8ace6",
   "metadata": {},
   "outputs": [],
   "source": [
    "with open('personas/data_ext/pclusters_tfidf_dense.pkl', 'wb') as f:\n",
    "    pickle.dump(tfidf_dense, f)"
   ]
  },
  {
   "cell_type": "markdown",
   "id": "66d9d47d-9645-477c-912e-81b395bcff9b",
   "metadata": {},
   "source": [
    "utility functions to find ctfidf-terms per cluster"
   ]
  },
  {
   "cell_type": "code",
   "execution_count": null,
   "id": "6ddd0331-0309-4f53-835a-ad87872a18f9",
   "metadata": {},
   "outputs": [],
   "source": [
    "word2index = {k: v for k,v in tfidf_vectorizer.vocabulary_.items()}\n",
    "index2word = {v: k for k,v in tfidf_vectorizer.vocabulary_.items()}\n",
    "\n",
    "def find_ctfidf_terms(clusterId, ctfidf_mx, n):\n",
    "    ixs = ctfidf_mx[clusterId].argsort()\n",
    "    ixs = ixs.tolist()\n",
    "    ixs = [ix for ix in reversed(ixs[0][-n:])]\n",
    "    return [index2word[ix] for ix in ixs]"
   ]
  },
  {
   "cell_type": "code",
   "execution_count": null,
   "id": "6d1a92ec-5974-44db-9210-e7fe7f99f2cb",
   "metadata": {},
   "outputs": [],
   "source": [
    "pd_clusters = pd.read_pickle('personas/data_ext/pd_clusters.pkl')"
   ]
  },
  {
   "cell_type": "markdown",
   "id": "1b884da8-1a31-42d7-9c0f-713687dac347",
   "metadata": {},
   "source": [
    "augment clusters with ctfidf terms"
   ]
  },
  {
   "cell_type": "code",
   "execution_count": null,
   "id": "a4866c37-4301-4e7a-a09b-b9123d7aab7c",
   "metadata": {},
   "outputs": [],
   "source": [
    "from sklearn.feature_extraction import text\n",
    "stop_words = list(text.ENGLISH_STOP_WORDS)\n",
    "\n",
    "def remove_stopwords(terms, stopwords, n_keep):\n",
    "    keep_terms = []\n",
    "    for term in terms:\n",
    "        if not term in stopwords:\n",
    "            keep_terms.append(term)\n",
    "    return keep_terms[:10]"
   ]
  },
  {
   "cell_type": "code",
   "execution_count": null,
   "id": "586eef1e-cc51-44a1-b9f5-3e8281c2053d",
   "metadata": {},
   "outputs": [],
   "source": [
    "candidate_terms = [find_ctfidf_terms(clusterId, tfidf_dense, 25) for clusterId in pd_clusters['clusterId']]\n",
    "definite_terms = [remove_stopwords(terms, stop_words, 10) for terms in candidate_terms]"
   ]
  },
  {
   "cell_type": "code",
   "execution_count": null,
   "id": "7cce8217-f296-4d50-9459-4956970c0962",
   "metadata": {},
   "outputs": [],
   "source": [
    "pd_clusters['cluster_terms'] = definite_terms"
   ]
  },
  {
   "cell_type": "markdown",
   "id": "882901e4-06ad-4eb7-a9a7-03e4243e9d96",
   "metadata": {},
   "source": [
    "augment clusters with 10 random personas"
   ]
  },
  {
   "cell_type": "code",
   "execution_count": null,
   "id": "8bb6bb4d-69ec-42bb-b1d0-24966ac63858",
   "metadata": {},
   "outputs": [],
   "source": [
    "pd_clusters['cluster_personas'] = [list(show_cluster(pd_personas, clusterId).sample(10, random_state=1)['persona']) for clusterId in pd_clusters['clusterId']]"
   ]
  },
  {
   "cell_type": "code",
   "execution_count": null,
   "id": "769a0bf7-4ca5-41d3-aadc-690d6b5739d7",
   "metadata": {},
   "outputs": [],
   "source": [
    "pd_clusters.head(1)"
   ]
  },
  {
   "cell_type": "markdown",
   "id": "03e8829f-9f4f-474c-8874-4a1d14a09fcd",
   "metadata": {},
   "source": [
    "save"
   ]
  },
  {
   "cell_type": "code",
   "execution_count": null,
   "id": "5c8874a5-86cf-47f8-b19a-f560dd14d84c",
   "metadata": {},
   "outputs": [],
   "source": [
    "pd_clusters.to_excel('personas/data_ext/pd_clusters_augmented.xlsx')\n",
    "pd_clusters.to_pickle('personas/data_ext/pd_clusters_augmented.pkl')"
   ]
  }
 ],
 "metadata": {
  "kernelspec": {
   "display_name": "Python 3 (ipykernel)",
   "language": "python",
   "name": "python3"
  },
  "language_info": {
   "codemirror_mode": {
    "name": "ipython",
    "version": 3
   },
   "file_extension": ".py",
   "mimetype": "text/x-python",
   "name": "python",
   "nbconvert_exporter": "python",
   "pygments_lexer": "ipython3",
   "version": "3.11.9"
  }
 },
 "nbformat": 4,
 "nbformat_minor": 5
}

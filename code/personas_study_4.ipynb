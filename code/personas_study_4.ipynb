{
 "cells": [
  {
   "cell_type": "code",
   "execution_count": null,
   "id": "38cc0668-ad97-4a25-92c3-3047de9b526a",
   "metadata": {},
   "outputs": [],
   "source": [
    "import os, json, time, pickle\n",
    "import pandas as pd, numpy as np \n",
    "import matplotlib.pyplot as plt\n",
    "from collections import Counter\n",
    "\n",
    "os.chdir('/home/jovyan/work/')\n",
    "\n",
    "modelname = 'mistral_'\n",
    "indatadir = os.path.join('personas', 'mistraldata_llm_4')\n",
    "outdatadir = os.path.join('personas', 'mistral_study_4')\n",
    "resultsdir = os.path.join('personas', 'mistralresults')"
   ]
  },
  {
   "cell_type": "markdown",
   "id": "a298e359-78fe-4b44-b24a-8743b1815036",
   "metadata": {},
   "source": [
    "#### data for annotation"
   ]
  },
  {
   "cell_type": "code",
   "execution_count": null,
   "id": "60d26498-a633-48f4-b5fb-9cc6945b6428",
   "metadata": {},
   "outputs": [],
   "source": [
    "pd_data = pd.read_pickle('personas/data_ext/data_study_4.pkl')"
   ]
  },
  {
   "cell_type": "code",
   "execution_count": null,
   "id": "a4689b0b-bd11-4c8a-9ba9-5c8a36df6677",
   "metadata": {},
   "outputs": [],
   "source": [
    "pd_data = pd_data[(pd_data['isAntiBlack']==True)|(pd_data['isAAE']==True)]\n",
    "pd_data = pd_data.sort_values('postId').reset_index(drop=True)\n",
    "pd_data = pd_data.drop('race', axis=1)\n",
    "len(pd_data)"
   ]
  },
  {
   "cell_type": "code",
   "execution_count": null,
   "id": "87b37d78-0b06-4439-a278-d97c8fb7bf44",
   "metadata": {},
   "outputs": [],
   "source": [
    "pd_data.head(3)"
   ]
  },
  {
   "cell_type": "code",
   "execution_count": null,
   "id": "f569595e-4faf-4fa4-88b8-75eb01f5f9de",
   "metadata": {},
   "outputs": [],
   "source": [
    "pd_data.to_pickle('personas/data_ext/data_study_4.pkl')"
   ]
  },
  {
   "cell_type": "markdown",
   "id": "0c78d8fe-62b9-4b4d-a895-a768f4480100",
   "metadata": {},
   "source": [
    "#### annotator personas"
   ]
  },
  {
   "cell_type": "markdown",
   "id": "6e5008c5-a22d-4e46-8882-c079817ab41c",
   "metadata": {},
   "source": [
    "personas black and conservative"
   ]
  },
  {
   "cell_type": "code",
   "execution_count": null,
   "id": "8b4f8325-612b-4273-aa7b-b9dbd95de644",
   "metadata": {},
   "outputs": [],
   "source": [
    "pd_blacks = pd.read_excel('personas/data_ext/candidates_black_annotated.xlsx')"
   ]
  },
  {
   "cell_type": "code",
   "execution_count": null,
   "id": "49c9a833-57fb-4d58-bc7d-3ae7bb234dc8",
   "metadata": {},
   "outputs": [],
   "source": [
    "pd_conservatives = pd.read_excel('personas/data_ext/candidates_conservative_annotated.xlsx', index_col=0)"
   ]
  },
  {
   "cell_type": "markdown",
   "id": "9f186f6e-fa6f-48f6-9004-6725e7f35318",
   "metadata": {},
   "source": [
    "find candidates for neutral personas "
   ]
  },
  {
   "cell_type": "code",
   "execution_count": null,
   "id": "be58eacd-a95e-4033-ac6d-9493313682fd",
   "metadata": {},
   "outputs": [],
   "source": [
    "pd_personas = pd.read_pickle('personas/data_ext/pd_personas_cleaned.pkl')"
   ]
  },
  {
   "cell_type": "markdown",
   "id": "35a5a412-a51c-43af-980f-1e302abf4691",
   "metadata": {},
   "source": [
    "exclude blacks and conservatives"
   ]
  },
  {
   "cell_type": "code",
   "execution_count": null,
   "id": "bb19ace1-bcad-488a-85b1-3102ba04e0eb",
   "metadata": {},
   "outputs": [],
   "source": [
    "pd_neutral_candidates = pd_personas[~pd_personas['personaId'].isin(pd_blacks['personaId'])]\n",
    "pd_neutral_candidates = pd_neutral_candidates[~pd_neutral_candidates['personaId'].isin(pd_conservatives['personaId'])]"
   ]
  },
  {
   "cell_type": "markdown",
   "id": "23074cdb-bf52-4eb6-8229-a40c32ccd8ae",
   "metadata": {},
   "source": [
    "exclude personas with an explicit political leaning or an explicit localization outside the united states"
   ]
  },
  {
   "cell_type": "code",
   "execution_count": null,
   "id": "210f499f-9829-4804-8d4c-178580fcbfe2",
   "metadata": {},
   "outputs": [],
   "source": [
    "pd_neutral_candidates = pd_neutral_candidates.sample(1000, random_state=1)"
   ]
  },
  {
   "cell_type": "code",
   "execution_count": null,
   "id": "b87eb72e-6fd1-4ffd-9ad8-912363074bd6",
   "metadata": {},
   "outputs": [],
   "source": [
    "pd_neutral_candidates.to_excel('personas/data_ext/candidates_neutral.xlsx')"
   ]
  },
  {
   "cell_type": "markdown",
   "id": "f00effd9-a48a-4350-a8aa-5f74277a4774",
   "metadata": {},
   "source": [
    "personas neutral"
   ]
  },
  {
   "cell_type": "code",
   "execution_count": null,
   "id": "dd3a5b28-9d18-4002-a085-fc1d315ab952",
   "metadata": {},
   "outputs": [],
   "source": [
    "pd_neutrals = pd.read_excel('personas/data_ext/candidates_neutral_annotated.xlsx', index_col=0)"
   ]
  },
  {
   "cell_type": "code",
   "execution_count": null,
   "id": "555ff269-2ec1-4cd3-b17f-df117b7fa9d2",
   "metadata": {},
   "outputs": [],
   "source": [
    "pd_neutrals.head()"
   ]
  },
  {
   "cell_type": "code",
   "execution_count": null,
   "id": "45793251-b416-4b8e-b313-ec9802d59ca5",
   "metadata": {},
   "outputs": [],
   "source": [
    "pd_neutrals.columns"
   ]
  },
  {
   "cell_type": "markdown",
   "id": "69f2bb38-fa43-4f52-96ba-ae6e6ea1f21f",
   "metadata": {},
   "source": [
    "define annotator groups"
   ]
  },
  {
   "cell_type": "code",
   "execution_count": null,
   "id": "38aec3ca-043d-4a60-9884-da8761352ff9",
   "metadata": {},
   "outputs": [],
   "source": [
    "pd_conservatives.head(2)"
   ]
  },
  {
   "cell_type": "markdown",
   "id": "2ec9ee8d-9dde-483f-aee1-d2313891ad6b",
   "metadata": {},
   "source": [
    "##### load annotators"
   ]
  },
  {
   "cell_type": "code",
   "execution_count": null,
   "id": "1f7c9c4e-e4f3-4e18-9d20-80cdaf849fd0",
   "metadata": {},
   "outputs": [],
   "source": [
    "pd_neutrals = pd.read_excel('personas/data_ext/candidates_neutral_annotated.xlsx', index_col=0)"
   ]
  },
  {
   "cell_type": "code",
   "execution_count": null,
   "id": "66a82477-fe3b-401b-a241-2957d77b8c21",
   "metadata": {},
   "outputs": [],
   "source": [
    "pd_blacks.head()"
   ]
  },
  {
   "cell_type": "code",
   "execution_count": null,
   "id": "1712ea8b-9449-456e-9fd8-52974e4cc733",
   "metadata": {},
   "outputs": [],
   "source": [
    "annotators = {\n",
    "    'neutral_original': pd_neutrals[['personaId','persona']],\n",
    "    'neutral_black': pd_neutrals[['personaId','neutral']].rename(columns={'neutral': 'persona'}),\n",
    "    'neutral_conservative': pd_neutrals[['personaId','neutral']].rename(columns={'neutral': 'persona'})\n",
    "}\n",
    "\n",
    "annotators['neutral_black']['persona'] = [p.replace('[TOKEN]', 'african-american').replace('[ATOKEN]', 'an african-american') for p in annotators['neutral_black']['persona']]\n",
    "annotators['neutral_conservative']['persona'] = [p.replace('[TOKEN]', 'conservative').replace('[ATOKEN]', 'a conservative') for p in annotators['neutral_conservative']['persona']]"
   ]
  },
  {
   "cell_type": "code",
   "execution_count": null,
   "id": "ba2ef5ae-d073-4d73-9c1a-644f0f2697aa",
   "metadata": {},
   "outputs": [],
   "source": [
    "with open('personas/data_ext/dict_annotators.pkl', 'wb') as f:\n",
    "    pickle.dump(annotators, f)"
   ]
  },
  {
   "cell_type": "code",
   "execution_count": null,
   "id": "7e0e0041-e5b4-4b2b-985c-ad1fbaf03082",
   "metadata": {},
   "outputs": [],
   "source": [
    "annotators['neutral_original'].head(3)"
   ]
  },
  {
   "cell_type": "code",
   "execution_count": null,
   "id": "f1c83808-ef7c-47f9-b687-835065d72131",
   "metadata": {},
   "outputs": [],
   "source": [
    "annotators['neutral_conservative'].head(3)"
   ]
  },
  {
   "cell_type": "code",
   "execution_count": null,
   "id": "7ea735c9-abc0-45a2-937c-cf31824b6fc3",
   "metadata": {},
   "outputs": [],
   "source": [
    "annotators['neutral_black'].head(3)"
   ]
  },
  {
   "cell_type": "markdown",
   "id": "70ed66fd-884d-4349-8c06-f7eda8f83674",
   "metadata": {},
   "source": [
    "#### load annotations"
   ]
  },
  {
   "cell_type": "code",
   "execution_count": null,
   "id": "f289b55d-5279-4e60-bc84-f81ea9a86d61",
   "metadata": {},
   "outputs": [],
   "source": [
    "list_annotations = [\n",
    "    'neutral_black',\n",
    "    'neutral_neutral',\n",
    "    'neutral_conservative',\n",
    "]"
   ]
  },
  {
   "cell_type": "code",
   "execution_count": null,
   "id": "a029db86-0107-4bec-877a-01c475eb6935",
   "metadata": {},
   "outputs": [],
   "source": [
    "dict_annotations = {k: pd.read_pickle(os.path.join(indatadir,f'{k}_annotations.pkl')) for k in list_annotations}"
   ]
  },
  {
   "cell_type": "markdown",
   "id": "02ab2ac5-779f-41ba-b7f7-15e670bde5a2",
   "metadata": {},
   "source": [
    "#### original personas"
   ]
  },
  {
   "cell_type": "markdown",
   "id": "1c2a423d-e8f2-4576-9034-dc12fe2efcf8",
   "metadata": {},
   "source": [
    "anti black"
   ]
  },
  {
   "cell_type": "code",
   "execution_count": null,
   "id": "b033aafd-c54f-419b-a8ed-e342e9a49396",
   "metadata": {},
   "outputs": [],
   "source": [
    "pd_data = pd.read_pickle('personas/data_ext/data_study_4.pkl')\n",
    "pd_data = pd_data[(pd_data['isAntiBlack']==True)&(pd_data['isAAE']==False)]\n",
    "len(pd_data)"
   ]
  },
  {
   "cell_type": "code",
   "execution_count": null,
   "id": "b4c4ed08-661b-4f96-91f2-7e2d4ed6887c",
   "metadata": {},
   "outputs": [],
   "source": [
    "from scipy import stats"
   ]
  },
  {
   "cell_type": "code",
   "execution_count": null,
   "id": "904cd7c1-4a1b-4355-a0a2-aa6eaeb80a27",
   "metadata": {},
   "outputs": [],
   "source": [
    "ttype = 'isAntiBlack'\n",
    "ntype = 'isAAE'\n",
    "\n",
    "personas = 'neutral_black'\n",
    "nb = dict_annotations[personas]\n",
    "nb = nb[(nb[ttype]==True)&((nb[ntype]==False))].iloc[:,10:].astype(int)\n",
    "nb_means = nb.mean()\n",
    "print('b',np.round(nb.mean().mean(),2))\n",
    "\n",
    "personas = 'neutral_neutral'\n",
    "nn = dict_annotations[personas]\n",
    "nn = nn[(nn[ttype]==True)&((nn[ntype]==False))].iloc[:,10:].astype(int)\n",
    "nn_means = nn.mean()\n",
    "print('n',np.round(nn.mean().mean(),2))\n",
    "\n",
    "personas = 'neutral_conservative'\n",
    "nc = dict_annotations[personas]\n",
    "nc = nc[(nc[ttype]==True)&((nc[ntype]==False))].iloc[:,10:].astype(int)\n",
    "nc_means = nc.mean()\n",
    "print('c',np.round(nc.mean().mean(),2))\n",
    "\n",
    "print(np.sum(nb.mean() > nn.mean()))\n",
    "print(np.sum(nb.mean() > nc.mean()))\n",
    "print(len(nb.columns))"
   ]
  },
  {
   "cell_type": "code",
   "execution_count": null,
   "id": "265d6243-fe5a-469e-87c6-01942e634a31",
   "metadata": {},
   "outputs": [],
   "source": [
    "diff_nb = nb.mean() - nn.mean()\n",
    "diff_nc = nc.mean() - nn.mean()\n",
    "\n",
    "dict_diffs = {'black_neutral': diff_nb, 'cons_neutral': diff_nc}\n",
    "\n",
    "plt.boxplot(dict_diffs.values())\n",
    "plt.show()"
   ]
  },
  {
   "cell_type": "code",
   "execution_count": null,
   "id": "3627bcb2-1a74-4a1c-8186-e9471fa76896",
   "metadata": {},
   "outputs": [],
   "source": [
    "stats.ttest_ind(nb_means, nn_means, alternative='greater')"
   ]
  },
  {
   "cell_type": "code",
   "execution_count": null,
   "id": "db022116-21e4-4ba9-b885-6424ae6f4a23",
   "metadata": {},
   "outputs": [],
   "source": [
    "stats.ttest_ind(nb_means, nc_means, alternative='greater')"
   ]
  },
  {
   "cell_type": "code",
   "execution_count": null,
   "id": "d170cb82-5dd8-4ad5-be97-c8b53c8b41bb",
   "metadata": {},
   "outputs": [],
   "source": [
    "pd_data['tox_nb'] = nb.mean(axis=1)\n",
    "pd_data['tox_nn'] = nn.mean(axis=1)\n",
    "pd_data['diff'] = nb.mean(axis=1) - nn.mean(axis=1)"
   ]
  },
  {
   "cell_type": "code",
   "execution_count": null,
   "id": "35374c2c-1454-4ff5-b9f2-a04d444cd193",
   "metadata": {},
   "outputs": [],
   "source": [
    "pd_data.sort_values('diff', ascending=False)"
   ]
  },
  {
   "cell_type": "code",
   "execution_count": null,
   "id": "553b77dc-0459-4573-a70a-583df1cebe44",
   "metadata": {},
   "outputs": [],
   "source": [
    "for text in pd_data.sort_values('diff', ascending=False).iloc[:5,1]:\n",
    "    print(text)\n",
    "    print('_____________________________')"
   ]
  },
  {
   "cell_type": "code",
   "execution_count": null,
   "id": "a782b492-9570-4f87-8a05-5dbac16412fc",
   "metadata": {},
   "outputs": [],
   "source": [
    "for text in pd_data.sort_values('diff', ascending=False).iloc[-5:,1]:\n",
    "    print(text)\n",
    "    print('_____________________________')"
   ]
  },
  {
   "cell_type": "markdown",
   "id": "49b5e356-2d8e-4ccf-ad3f-d8839c18047a",
   "metadata": {},
   "source": [
    "aae"
   ]
  },
  {
   "cell_type": "code",
   "execution_count": null,
   "id": "b1f4a031-8542-4a63-ae87-532f5dbcd4b9",
   "metadata": {},
   "outputs": [],
   "source": [
    "pd_data = pd.read_pickle('personas/data_ext/data_study_4.pkl')\n",
    "pd_data = pd_data[(pd_data['isAntiBlack']==False)&(pd_data['isAAE']==True)]\n",
    "len(pd_data)"
   ]
  },
  {
   "cell_type": "code",
   "execution_count": null,
   "id": "3f29e6e6-6f47-4ff9-bb13-d9adb765e2f4",
   "metadata": {},
   "outputs": [],
   "source": [
    "ttype = 'isAAE'\n",
    "ntype = 'isAntiBlack'\n",
    "\n",
    "personas = 'neutral_black'\n",
    "nb = dict_annotations[personas]\n",
    "nb = nb[(nb[ttype]==True)&((nb[ntype]==False))].iloc[:,10:].astype(int)\n",
    "nb_means = nb.mean()\n",
    "print('b',np.round(nb.mean().mean(),2))\n",
    "\n",
    "personas = 'neutral_neutral'\n",
    "nn = dict_annotations[personas]\n",
    "nn = nn[(nn[ttype]==True)&((nn[ntype]==False))].iloc[:,10:].astype(int)\n",
    "nn_means = nn.mean()\n",
    "print('n',np.round(nn.mean().mean(),2))\n",
    "\n",
    "personas = 'neutral_conservative'\n",
    "nc = dict_annotations[personas]\n",
    "nc = nc[(nc[ttype]==True)&((nc[ntype]==False))].iloc[:,10:].astype(int)\n",
    "nc_means = nc.mean()\n",
    "print('c',np.round(nc.mean().mean(),2))\n",
    "\n",
    "print(np.sum(nb.mean() > nn.mean()))\n",
    "print(np.sum(nb.mean() > nc.mean()))\n",
    "print(len(nb.columns))"
   ]
  },
  {
   "cell_type": "code",
   "execution_count": null,
   "id": "fa3c5147-3926-4c22-8e44-0b280c0c80e7",
   "metadata": {},
   "outputs": [],
   "source": [
    "diff_nb = nb.mean() - nn.mean()\n",
    "diff_nc = nc.mean() - nn.mean()\n",
    "\n",
    "dict_diffs = {'black_neutral': diff_nb, 'cons_neutral': diff_nc}\n",
    "\n",
    "plt.boxplot(dict_diffs.values())\n",
    "plt.show()"
   ]
  },
  {
   "cell_type": "code",
   "execution_count": null,
   "id": "fb47044b-846d-43d1-8a09-163e1c4255b5",
   "metadata": {},
   "outputs": [],
   "source": [
    "stats.ttest_ind(nb_means, nn_means, alternative='less') # h0: nb >= nn; h1: nb < nn -> do not reject h0"
   ]
  },
  {
   "cell_type": "code",
   "execution_count": null,
   "id": "8b9d624d-79e3-48e1-851c-78e152088c03",
   "metadata": {},
   "outputs": [],
   "source": [
    "stats.ttest_ind(nb_means, nc_means, alternative='less') # h0: nb >= nc; h1: nb < nc -> reject h0"
   ]
  },
  {
   "cell_type": "code",
   "execution_count": null,
   "id": "10e8838d-a648-4385-b71e-269eaae34e1f",
   "metadata": {},
   "outputs": [],
   "source": [
    "pd_data['tox_nb'] = nb.mean(axis=1)\n",
    "pd_data['tox_nn'] = nn.mean(axis=1)\n",
    "pd_data['diff'] = nb.mean(axis=1) - nn.mean(axis=1)"
   ]
  },
  {
   "cell_type": "code",
   "execution_count": null,
   "id": "24524863-e675-42ce-90c7-36a887cc92ef",
   "metadata": {},
   "outputs": [],
   "source": [
    "pd_data.sort_values('diff', ascending=False)"
   ]
  },
  {
   "cell_type": "code",
   "execution_count": null,
   "id": "e86721a2-fffc-4dbb-aead-63919e8cded2",
   "metadata": {},
   "outputs": [],
   "source": [
    "for text in pd_data.sort_values('diff', ascending=False).iloc[:5,1]:\n",
    "    print(text)\n",
    "    print('_____________________________')"
   ]
  },
  {
   "cell_type": "code",
   "execution_count": null,
   "id": "39618e24-f463-4677-9178-970cfc5d84f0",
   "metadata": {},
   "outputs": [],
   "source": [
    "for text in pd_data.sort_values('diff', ascending=False).iloc[-5:,1]:\n",
    "    print(text)\n",
    "    print('_____________________________')"
   ]
  },
  {
   "cell_type": "markdown",
   "id": "30761307-c657-4200-acaf-927162ba0633",
   "metadata": {},
   "source": [
    "##### bar charts"
   ]
  },
  {
   "cell_type": "code",
   "execution_count": null,
   "id": "d66dfc14-7a31-4c37-b78c-0b9877c5a061",
   "metadata": {},
   "outputs": [],
   "source": [
    "texttype = 'isAAE'\n",
    "ntexttype = 'isAntiBlack'\n",
    "width = 0.25\n",
    "colors = ['lightsteelblue', 'cornflowerblue', 'mediumblue']\n",
    "\n",
    "fig, ax = plt.subplots(figsize=(8,5))\n",
    "multiplier = -1\n",
    "for group in ['black','neutral','conservative']:\n",
    "    v = dict_annotations[f'{group}_{group}'].copy() \n",
    "    data = v[(v[texttype]==True)&(v[ntexttype]==False)].iloc[:,10:].astype(int)\n",
    "    list_data = []\n",
    "    for l in data.values:\n",
    "        list_data.extend(l)\n",
    "    pd_data = pd.DataFrame([[k,v] for k,v in Counter(list_data).items()], columns=['level','count']).sort_values('level')\n",
    "    offset = width * multiplier\n",
    "    col = colors[multiplier+1]\n",
    "    ax.bar(pd_data['level']+offset, pd_data['count'], width=width, label=group, color=col)\n",
    "    multiplier += 1\n",
    "ax.set_title(f'{texttype}')\n",
    "ax.legend(title='personas')\n",
    "plt.savefig(os.path.join(resultsdir,modelname+f'study_4_bars_{texttype}_original.png'))\n",
    "plt.show()"
   ]
  },
  {
   "cell_type": "code",
   "execution_count": null,
   "id": "2bb7a19c-50fe-41c1-a617-452f2d0045c8",
   "metadata": {},
   "outputs": [],
   "source": [
    "texttype = 'isAntiBlack'\n",
    "ntexttype = 'isAAE'\n",
    "width = 0.25\n",
    "colors = ['lightsteelblue', 'cornflowerblue', 'mediumblue']\n",
    "\n",
    "fig, ax = plt.subplots(figsize=(8,5))\n",
    "multiplier = -1\n",
    "for group in ['black','neutral','conservative']:\n",
    "    v = dict_annotations[f'{group}_{group}'].copy() \n",
    "    data = v[(v[texttype]==True)&(v[ntexttype]==False)].iloc[:,10:].astype(int)\n",
    "    list_data = []\n",
    "    for l in data.values:\n",
    "        list_data.extend(l)\n",
    "    pd_data = pd.DataFrame([[k,v] for k,v in Counter(list_data).items()], columns=['level','count']).sort_values('level')\n",
    "    offset = width * multiplier\n",
    "    col = colors[multiplier+1]\n",
    "    ax.bar(pd_data['level']+offset, pd_data['count'], width=width, label=group, color=col)\n",
    "    multiplier += 1\n",
    "ax.set_title(f'{texttype}')\n",
    "ax.legend(title='personas')\n",
    "plt.savefig(os.path.join(resultsdir,modelname+f'study_4_bars_{texttype}_original.png'))\n",
    "plt.show()"
   ]
  },
  {
   "cell_type": "markdown",
   "id": "bb03295a-a2e3-47a8-847d-e69eb8f55e2a",
   "metadata": {},
   "source": [
    "##### boxplots"
   ]
  },
  {
   "cell_type": "code",
   "execution_count": null,
   "id": "1b6e4132-2157-4cd3-a7a2-45661444f2b2",
   "metadata": {},
   "outputs": [],
   "source": [
    "texttype = 'isAAE'\n",
    "ntexttype = 'isAntiBlack'\n",
    "\n",
    "dict_boxplots = {k: v[(v[texttype]==True)&(v[ntexttype]==False)].iloc[:,10:].astype(int).mean(axis=0) for k,v in dict_annotations.items()}\n",
    "dict_boxplots = {k: v for k,v in dict_boxplots.items() if k in ['black_black', 'neutral_neutral', 'conservative_conservative'] }\n",
    "\n",
    "fig, ax = plt.subplots(figsize=(5,3))\n",
    "ax.boxplot(dict_boxplots.values())\n",
    "ax.set_xticklabels([l.split('_')[0].replace('conservative','cons.') for l in list(dict_boxplots.keys())], rotation=45)\n",
    "ax.set_ylim((0.8,5.2))\n",
    "ax.set_title(f'{texttype}')\n",
    "plt.savefig(os.path.join(resultsdir,modelname+f'study_4_boxplots_{texttype}_original.png'), bbox_inches='tight')\n",
    "plt.show()"
   ]
  },
  {
   "cell_type": "code",
   "execution_count": null,
   "id": "8b28940e-66de-43e8-941b-3e5c072f9804",
   "metadata": {},
   "outputs": [],
   "source": [
    "texttype = 'isAntiBlack'\n",
    "ntexttype = 'isAAE'\n",
    "\n",
    "dict_boxplots = {k: v[(v[texttype]==True)&(v[ntexttype]==False)].iloc[:,10:].astype(int).mean(axis=0) for k,v in dict_annotations.items()}\n",
    "dict_boxplots = {k: v for k,v in dict_boxplots.items() if k in ['black_black', 'neutral_neutral', 'conservative_conservative'] }\n",
    "\n",
    "fig, ax = plt.subplots(figsize=(5,3))\n",
    "ax.boxplot(dict_boxplots.values())\n",
    "ax.set_xticklabels([l.split('_')[0].replace('conservative','cons.') for l in list(dict_boxplots.keys())], rotation=45)\n",
    "ax.set_ylim((0.8,5.2))\n",
    "ax.set_title(f'{texttype}')\n",
    "plt.savefig(os.path.join(resultsdir,modelname+f'study_4_boxplots_{texttype}_original.png'), bbox_inches='tight')\n",
    "plt.show()"
   ]
  },
  {
   "cell_type": "markdown",
   "id": "9fa7b610-1393-4640-8135-80dc2d2a2b4c",
   "metadata": {},
   "source": [
    "#### extended personas"
   ]
  },
  {
   "cell_type": "markdown",
   "id": "36a6a5f9-de4b-4462-9a14-2082cf23c2fd",
   "metadata": {},
   "source": [
    "##### bar charts: number of toxicity levels per annotator group"
   ]
  },
  {
   "cell_type": "code",
   "execution_count": null,
   "id": "edd0be19-0fd4-413b-8b64-de9e39d167d1",
   "metadata": {},
   "outputs": [],
   "source": [
    "texttype = 'isAAE'\n",
    "ntexttype = 'isAntiBlack'\n",
    "width = 0.25\n",
    "colors = ['lightsteelblue', 'cornflowerblue', 'mediumblue']\n",
    "\n",
    "for group_o in ['black','neutral','conservative']:\n",
    "    fig, ax = plt.subplots(figsize=(8,5))\n",
    "    multiplier = -1\n",
    "    for group_n in ['black', 'neutral', 'conservative']:\n",
    "        v = dict_annotations[f'{group_o}_{group_n}'].copy() \n",
    "        data = v[(v[texttype]==True)&(v[ntexttype]==False)].iloc[:,10:].astype(int)\n",
    "        list_data = []\n",
    "        for l in data.values:\n",
    "            list_data.extend(l)\n",
    "        pd_data = pd.DataFrame([[k,v] for k,v in Counter(list_data).items()], columns=['level','count']).sort_values('level')\n",
    "        offset = width * multiplier\n",
    "        col = 'rosybrown' if group_o == group_n else colors[multiplier+1]\n",
    "        ax.bar(pd_data['level']+offset, pd_data['count'], width=width, label=group_n, color=col)\n",
    "        multiplier += 1\n",
    "    ax.set_title(f'{texttype} --- original personas: {group_o}')\n",
    "    ax.legend(title='new personas')\n",
    "    plt.savefig(os.path.join(resultsdir,modelname+f'study_4_bars_{texttype}_extended_{group_o}.png'))"
   ]
  },
  {
   "cell_type": "code",
   "execution_count": null,
   "id": "ffa62476-7bfa-4c54-83c5-b230d90975a2",
   "metadata": {},
   "outputs": [],
   "source": [
    "texttype = 'isAntiBlack'\n",
    "ntexttype = 'isAAE'\n",
    "width = 0.25\n",
    "colors = ['lightsteelblue', 'cornflowerblue', 'mediumblue']\n",
    "\n",
    "for group_o in ['black','neutral','conservative']:\n",
    "    fig, ax = plt.subplots(figsize=(8,5))\n",
    "    multiplier = -1\n",
    "    for group_n in ['black', 'neutral', 'conservative']:\n",
    "        v = dict_annotations[f'{group_o}_{group_n}'].copy() \n",
    "        data = v[(v[texttype]==True)&(v[ntexttype]==False)].iloc[:,10:].astype(int)\n",
    "        list_data = []\n",
    "        for l in data.values:\n",
    "            list_data.extend(l)\n",
    "        pd_data = pd.DataFrame([[k,v] for k,v in Counter(list_data).items()], columns=['level','count']).sort_values('level')\n",
    "        offset = width * multiplier\n",
    "        col = 'rosybrown' if group_o == group_n else colors[multiplier+1]\n",
    "        ax.bar(pd_data['level']+offset, pd_data['count'], width=width, label=group_n, color=col)\n",
    "        multiplier += 1\n",
    "    ax.set_title(f'{texttype} --- original personas: {group_o}')\n",
    "    ax.legend(title='new personas')\n",
    "    plt.savefig(os.path.join(resultsdir,modelname+f'study_4_bars_{texttype}_extended_{group_o}.png'))"
   ]
  },
  {
   "cell_type": "markdown",
   "id": "bcfc0a23-5988-4c24-91fd-e210fb605abf",
   "metadata": {},
   "source": [
    "##### boxplots: mean toxicity level per annotator"
   ]
  },
  {
   "cell_type": "code",
   "execution_count": null,
   "id": "544ac100-17cf-40d5-867a-9d6485af81a5",
   "metadata": {},
   "outputs": [],
   "source": [
    "texttype = 'isAAE'\n",
    "ntexttype = 'isAntiBlack'\n",
    "\n",
    "dict_boxplots = {k: v[(v[texttype]==True)&(v[ntexttype]==False)].iloc[:,10:].astype(int).mean(axis=0) for k,v in dict_annotations.items()}\n",
    "\n",
    "fig, ax = plt.subplots(figsize=(10,5))\n",
    "ax.boxplot(dict_boxplots.values())\n",
    "xlabels = [l.replace('conservative','cons.') for l in list(dict_boxplots.keys())]\n",
    "ax.set_xticklabels(xlabels, rotation=45)\n",
    "ax.set_ylim((0.8,5.2))\n",
    "ax.set_title(f'{texttype}')\n",
    "plt.savefig(os.path.join(resultsdir,modelname+f'study_4_boxplots_{texttype}_extended.png'), bbox_inches='tight')\n",
    "plt.show()"
   ]
  },
  {
   "cell_type": "code",
   "execution_count": null,
   "id": "14247a14-9f1d-49f6-8c23-a447a8464879",
   "metadata": {},
   "outputs": [],
   "source": [
    "texttype = 'isAntiBlack'\n",
    "ntexttype = 'isAAE'\n",
    "\n",
    "dict_boxplots = {k: v[(v[texttype]==True)&(v[ntexttype]==False)].iloc[:,10:].astype(int).mean(axis=0) for k,v in dict_annotations.items()}\n",
    "\n",
    "fig, ax = plt.subplots(figsize=(10,5))\n",
    "ax.boxplot(dict_boxplots.values())\n",
    "xlabels = [l.replace('conservative','cons.') for l in list(dict_boxplots.keys())]\n",
    "ax.set_xticklabels(xlabels, rotation=45)\n",
    "ax.set_ylim((0.8,5.2))\n",
    "ax.set_title(f'{texttype}')\n",
    "plt.savefig(os.path.join(resultsdir,modelname+f'study_4_boxplots_{texttype}_extended.png'), bbox_inches='tight')\n",
    "plt.show()"
   ]
  }
 ],
 "metadata": {
  "kernelspec": {
   "display_name": "Python 3 (ipykernel)",
   "language": "python",
   "name": "python3"
  },
  "language_info": {
   "codemirror_mode": {
    "name": "ipython",
    "version": 3
   },
   "file_extension": ".py",
   "mimetype": "text/x-python",
   "name": "python",
   "nbconvert_exporter": "python",
   "pygments_lexer": "ipython3",
   "version": "3.11.9"
  }
 },
 "nbformat": 4,
 "nbformat_minor": 5
}

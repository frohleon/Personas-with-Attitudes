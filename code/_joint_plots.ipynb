{
 "cells": [
  {
   "cell_type": "code",
   "execution_count": null,
   "id": "3b1e7f0d-7008-4256-b512-47e7464c9ac7",
   "metadata": {},
   "outputs": [],
   "source": [
    "import os, json, time, pickle\n",
    "import pandas as pd, numpy as np \n",
    "import matplotlib.pyplot as plt\n",
    "\n",
    "os.chdir('/home/jovyan/work/')\n",
    "\n",
    "m_modelname = 'mistral_'\n",
    "m_indatadir12 = os.path.join('personas', 'mistraldata_llm_1_2')\n",
    "m_outdatadir12 = os.path.join('personas', 'mistral_study_1_2')\n",
    "m_indatadir3 = os.path.join('personas', 'mistraldata_llm_3')\n",
    "m_outdatadir3 = os.path.join('personas', 'mistral_study_3')\n",
    "m_indatadir4 = os.path.join('personas', 'mistraldata_llm_4')\n",
    "m_outdatadir4 = os.path.join('personas', 'mistral_study_4')\n",
    "m_resultsdir = os.path.join('personas', 'mistralresults')\n",
    "\n",
    "q_modelname = 'qwen_'\n",
    "q_indatadir12 = os.path.join('personas', 'qwendata_llm_1_2')\n",
    "q_outdatadir12 = os.path.join('personas', 'qwen_study_1_2')\n",
    "q_indatadir3 = os.path.join('personas', 'qwendata_llm_3')\n",
    "q_outdatadir3 = os.path.join('personas', 'qwen_study_3')\n",
    "q_indatadir4 = os.path.join('personas', 'qwendata_llm_4')\n",
    "q_outdatadir4 = os.path.join('personas', 'qwen_study_4')\n",
    "q_resultsdir = os.path.join('personas', 'qwenresults')\n",
    "\n",
    "modelname = 'joint_'\n",
    "resultsdir = os.path.join('personas', 'joint_results')"
   ]
  },
  {
   "cell_type": "code",
   "execution_count": null,
   "id": "bae30a4d-9752-49dd-9c5d-80ba74fa2788",
   "metadata": {},
   "outputs": [],
   "source": [
    "import warnings\n",
    "warnings.simplefilter(action='ignore', category=FutureWarning)\n",
    "warnings.simplefilter(action=\"ignore\", category=pd.errors.PerformanceWarning)"
   ]
  },
  {
   "cell_type": "markdown",
   "id": "f72d2915-75e7-474c-9dde-fd1fd0ae9da9",
   "metadata": {},
   "source": [
    "##### Sample Personas for Table 1 "
   ]
  },
  {
   "cell_type": "code",
   "execution_count": null,
   "id": "440d5a25-3629-476b-ba15-5da00de70b92",
   "metadata": {},
   "outputs": [],
   "source": [
    "pd_personas = pd.read_pickle('personas/data_ext/pd_personas_cleaned.pkl')\n",
    "pd_personas.head(3)"
   ]
  },
  {
   "cell_type": "code",
   "execution_count": null,
   "id": "4bfdb353-3983-47c1-9964-8837b7036f3c",
   "metadata": {},
   "outputs": [],
   "source": [
    "for i, row in pd_personas.sample(5, random_state=1).iterrows():\n",
    "    print(row['personaId'], '&' ,row['persona'],'\\\\\\\\')"
   ]
  },
  {
   "cell_type": "markdown",
   "id": "8e7bc25a-d7de-4811-adc1-4fd7299b1534",
   "metadata": {},
   "source": [
    "##### Display Clusters for Appendix Table"
   ]
  },
  {
   "cell_type": "code",
   "execution_count": null,
   "id": "be379699-06d5-48a9-aa95-349ca2e1aa01",
   "metadata": {},
   "outputs": [],
   "source": [
    "pd_clusters = pd.read_pickle('personas/data_ext/pd_clusters_augmented.pkl')"
   ]
  },
  {
   "cell_type": "code",
   "execution_count": null,
   "id": "e1309880-54ac-4e71-8318-b6c9f8712f4e",
   "metadata": {},
   "outputs": [],
   "source": [
    "for i, row in pd_clusters.head(3).iterrows():\n",
    "    print(i, '&', ', '.join(row['cluster_terms']), '&', '; '.join(row['cluster_personas'][:3]))"
   ]
  },
  {
   "cell_type": "code",
   "execution_count": null,
   "id": "dc56a598-66ff-4aa2-a00e-a7ec80795b97",
   "metadata": {},
   "outputs": [],
   "source": [
    "for i, row in pd_clusters.tail(3).iterrows():\n",
    "    print(i, '&', ', '.join(row['cluster_terms']), '&', '; '.join(row['cluster_personas'][:3]))"
   ]
  },
  {
   "cell_type": "markdown",
   "id": "9c90302d-9149-461b-94b5-27f4aa81c1eb",
   "metadata": {},
   "source": [
    "##### Utility functions"
   ]
  },
  {
   "cell_type": "code",
   "execution_count": null,
   "id": "6597bdd7-cf60-4b04-842d-a1efbb4e2dec",
   "metadata": {},
   "outputs": [],
   "source": [
    "from sklearn.metrics import classification_report\n",
    "\n",
    "def votes_from_runs_crowd(pd_):\n",
    "    pd_results = pd.DataFrame()\n",
    "    for c in range(len(pd_.columns)):\n",
    "        sums = list(pd_.iloc[:,:(c+1)].sum(axis=1))\n",
    "        pd_results[f'run_{c}'] = [1 if s>(c+1)/2 else 0 for s in sums]\n",
    "    return pd_results\n",
    "\n",
    "def votes_from_runs_individual(pd_):\n",
    "    personas = [p.split('_')[1] for p in pd_.columns]\n",
    "    pd_.columns = [f'run_{i}' for i in range(len(pd_.columns))]\n",
    "    return pd_, personas\n",
    "\n",
    "def reports_from_votes(pd_, groundtruth_label):\n",
    "    results = []\n",
    "    for c in range(len(pd_.columns)):\n",
    "        results.append(classification_report(groundtruth_label, pd_[f'run_{c}'], output_dict=True))\n",
    "    return results\n",
    "\n",
    "def series_from_reports(list_, personas):\n",
    "    if personas:\n",
    "        pd_results = pd.DataFrame(personas, columns=['personaId'])\n",
    "    else:\n",
    "        pd_results = pd.DataFrame([i+1 for i in range(len(list_))], columns=['crowdsize'])\n",
    "    for e in ['0', '1']:\n",
    "        for k in list_[0][e].keys():\n",
    "            pd_results[e+'_'+k] = [l[e][k] for l in list_]\n",
    "    for k in list_[0]['macro avg'].keys():\n",
    "        pd_results['mavg'+'_'+k] = [l['macro avg'][k] for l in list_]\n",
    "    for k in list_[0]['weighted avg'].keys():\n",
    "        pd_results['wavg'+'_'+k] = [l['weighted avg'][k] for l in list_]\n",
    "    pd_results['accuracy'] = [l['accuracy'] for l in list_]\n",
    "    return pd_results.drop(['0_support','1_support','mavg_support','wavg_support'], axis=1)\n",
    "\n",
    "def plot_series(dict_results, savename):\n",
    "    fig, axs = plt.subplots(5, 3, figsize=(6,8))\n",
    "    for k_type, v_type in dict_results.items():\n",
    "        r,c = 0,0\n",
    "        for i in range(13):\n",
    "            for k_run, v_run in v_type['dfs'].items():\n",
    "                axs[r,c].plot(v_run.iloc[:,0], v_run.iloc[:,i+1], color=v_type['color'], label=v_type['label'], linewidth=0.5)\n",
    "                axs[r,c].set_ylim((0,1.05))\n",
    "                axs[r,c].title.set_text(v_run.columns[i+1])\n",
    "            if c < 2:\n",
    "                c += 1\n",
    "            else:\n",
    "                c = 0\n",
    "                r += 1\n",
    "    fig.delaxes(axs[4,1])\n",
    "    fig.delaxes(axs[4,2])\n",
    "    fig.tight_layout()\n",
    "    plt.savefig(os.path.join(resultsdir, modelname+f'{savename}.pdf'))\n",
    "    plt.show()\n",
    "\n",
    "def plot_single_series(dict_results, metric, savename):\n",
    "    fig, ax = plt.subplots(1, 1, figsize=(5,3))\n",
    "    min_s, max_s = 1, 0\n",
    "    for k_type, v_type in dict_results.items():\n",
    "        for k_run, v_run in v_type['dfs'].items():\n",
    "            ax.plot(v_run['crowdsize'], v_run[metric], color=v_type['color'], label=v_type['label'], linewidth=0.5)\n",
    "            min_r, max_r = v_run[metric].min(), v_run[metric].max()\n",
    "            min_s = min_r if min_r < min_s else min_s\n",
    "            max_s = max_r if max_r > max_s else max_s\n",
    "    ax.set_ylim((min_s-0.05,max_s+0.05))\n",
    "    ax.set(xlabel='crowd size', ylabel=metric)\n",
    "    plt.savefig(os.path.join(resultsdir, modelname+f'{savename}.pdf'))\n",
    "    plt.show()\n",
    "\n",
    "def plot_boxplots(dict_results, savename):\n",
    "    metrics = [list(v.columns) for k,v in dict_results.items()][0][1:]\n",
    "    fig, axs = plt.subplots(5, 3, figsize=(6,8))\n",
    "    r, c = 0, 0\n",
    "    for i in range(13):\n",
    "        data_ = {k: v.iloc[:,1+i] for k,v in dict_results.items()}\n",
    "        axs[r,c].boxplot(data_.values())\n",
    "        # axs[r,c].set_xticklabels(['p_you','np_you','p_any','np_any'], rotation=45)\n",
    "        axs[r,c].set_xticklabels(['p','np'], rotation=45)\n",
    "        # axs[r,c].set_xticklabels(['p','np','p-old','np-old'], rotation=45)\n",
    "        axs[r,c].set_ylim([0,1.05])\n",
    "        axs[r,c].title.set_text(metrics[i])\n",
    "        if c < 2:\n",
    "            c += 1\n",
    "        else:\n",
    "            c = 0\n",
    "            r += 1\n",
    "    fig.delaxes(axs[4,1])\n",
    "    fig.delaxes(axs[4,2])\n",
    "    fig.tight_layout()\n",
    "    plt.savefig(os.path.join(resultsdir, modelname+f'{savename}.pdf'))\n",
    "    plt.show()\n",
    "\n",
    "def plot_single_boxplot(dict_results, metric, savename):\n",
    "    fig, ax = plt.subplots(1,1, figsize=(5,3))\n",
    "    data_ = {k: v[metric] for k,v in dict_results.items()}\n",
    "    min_b, max_b = 1, 0\n",
    "    for v in data_.values():\n",
    "        min_b = v.min() if v.min() < min_b else min_b\n",
    "        max_b = v.max() if v.max() > max_b else max_b\n",
    "    ax.boxplot(data_.values())\n",
    "    ax.set_xticklabels(['p','np'])\n",
    "    # ax.set_xticklabels(['p','np','p-old','np-old'], rotation=45)\n",
    "    ax.set_ylim([min_b-0.05,max_b+0.05])\n",
    "    ax.set(ylabel=metric)\n",
    "    plt.savefig(os.path.join(resultsdir, modelname+f'{savename}.pdf'))\n",
    "    plt.show()\n",
    "\n",
    "import dataframe_image as dfi\n",
    "\n",
    "def create_table(dict_results, shorts, savename):\n",
    "    pd_scores = pd.DataFrame([list(v.columns) for k,v in dict_results.items()][0][1:], columns=['metric'])\n",
    "    for t in ['min','mean','50%', 'max']:\n",
    "        for k,v in dict_results.items():\n",
    "            pd_scores[f'{shorts[k]}_{t}'] = list(v.describe().loc[t,:])\n",
    "    pd_scores = np.round(pd_scores, 4)\n",
    "    dfi.export(pd_scores, os.path.join(resultsdir, modelname+f'{savename}.png'), table_conversion='matplotlib')\n",
    "    return pd_scores"
   ]
  },
  {
   "cell_type": "markdown",
   "id": "db39aab2-d70e-4e89-8b50-f0e4582eca7e",
   "metadata": {},
   "source": [
    "### Study 1"
   ]
  },
  {
   "cell_type": "markdown",
   "id": "62166db9-40b0-4422-9d53-0725fa248f73",
   "metadata": {},
   "source": [
    "#### Load Data"
   ]
  },
  {
   "cell_type": "code",
   "execution_count": null,
   "id": "3880a7c0-0dfd-483f-a8e6-73f1525209d5",
   "metadata": {},
   "outputs": [],
   "source": [
    "pd_data = pd.read_pickle('personas/data_ext/lscale_majVote.pkl')\n",
    "\n",
    "m_pd_persona = pd.read_pickle(os.path.join(m_indatadir, '1000_persona_you.pkl'))\n",
    "m_pd_nopersona = pd.read_pickle(os.path.join(m_indatadir, '1000_nopersona_you.pkl'))\n",
    "\n",
    "q_pd_persona = pd.read_pickle(os.path.join(q_indatadir, '1000_persona_you.pkl'))\n",
    "q_pd_nopersona = pd.read_pickle(os.path.join(q_indatadir, '1000_nopersona_you.pkl'))"
   ]
  },
  {
   "cell_type": "markdown",
   "id": "8b28c7e6-0131-496a-9275-4d1d37d72471",
   "metadata": {},
   "source": [
    "#### Figures Crowds"
   ]
  },
  {
   "cell_type": "code",
   "execution_count": null,
   "id": "1591e4c1-a1a5-4fef-b94e-ff1b888a8a2c",
   "metadata": {},
   "outputs": [],
   "source": [
    "groundtruth = pd_data['ogLabelToxic']\n",
    "size_crowd = 100\n",
    "\n",
    "m_raw_runs = {\n",
    "    'persona': {i: m_pd_persona.iloc[:,3+i*size_crowd:3+(i+1)*size_crowd].replace({'FALSE': 0, 'TRUE': 1}) for i in range(int((len(m_pd_persona.columns) - 3) / size_crowd))},\n",
    "    'nopersona': {i: m_pd_nopersona.iloc[:,3+i*size_crowd:3+(i+1)*size_crowd].replace({'FALSE': 0, 'TRUE': 1}) for i in range(int((len(m_pd_nopersona.columns) - 3) / size_crowd))},\n",
    "}\n",
    "\n",
    "q_raw_runs = {\n",
    "    'persona': {i: q_pd_persona.iloc[:,3+i*size_crowd:3+(i+1)*size_crowd].replace({'FALSE': 0, 'TRUE': 1}) for i in range(int((len(q_pd_persona.columns) - 3) / size_crowd))},\n",
    "    'nopersona': {i: q_pd_nopersona.iloc[:,3+i*size_crowd:3+(i+1)*size_crowd].replace({'FALSE': 0, 'TRUE': 1}) for i in range(int((len(q_pd_nopersona.columns) - 3) / size_crowd))},\n",
    "}"
   ]
  },
  {
   "cell_type": "code",
   "execution_count": null,
   "id": "d56aaa23-244c-4c21-8a29-f0eb3b8d6995",
   "metadata": {},
   "outputs": [],
   "source": [
    "m_results_runs_series = {}\n",
    "m_dict_results_boxplots = {}\n",
    "\n",
    "for k_type, v_type in m_raw_runs.items():\n",
    "    m_results_runs_series[k_type] = {}\n",
    "    pd_boxplots = pd.DataFrame()\n",
    "    for k_run, v_run in v_type.items():\n",
    "        votes = votes_from_runs_crowd(v_run)\n",
    "        reports = reports_from_votes(votes, groundtruth)\n",
    "        m_results_runs_series[k_type][k_run] = series_from_reports(reports, None)\n",
    "        pd_boxplots = pd.concat([pd_boxplots, v_run], axis=1)\n",
    "    pd_boxplots, personas = votes_from_runs_individual(pd_boxplots)\n",
    "    reports = reports_from_votes(pd_boxplots, groundtruth)\n",
    "    m_dict_results_boxplots[k_type] = series_from_reports(reports, personas)"
   ]
  },
  {
   "cell_type": "code",
   "execution_count": null,
   "id": "1d86264d-6774-4e85-b671-c42e0d4fbd98",
   "metadata": {},
   "outputs": [],
   "source": [
    "q_results_runs_series = {}\n",
    "q_dict_results_boxplots = {}\n",
    "\n",
    "for k_type, v_type in q_raw_runs.items():\n",
    "    q_results_runs_series[k_type] = {}\n",
    "    pd_boxplots = pd.DataFrame()\n",
    "    for k_run, v_run in v_type.items():\n",
    "        votes = votes_from_runs_crowd(v_run)\n",
    "        reports = reports_from_votes(votes, groundtruth)\n",
    "        q_results_runs_series[k_type][k_run] = series_from_reports(reports, None)\n",
    "        pd_boxplots = pd.concat([pd_boxplots, v_run], axis=1)\n",
    "    pd_boxplots, personas = votes_from_runs_individual(pd_boxplots)\n",
    "    reports = reports_from_votes(pd_boxplots, groundtruth)\n",
    "    q_dict_results_boxplots[k_type] = series_from_reports(reports, personas)"
   ]
  },
  {
   "cell_type": "code",
   "execution_count": null,
   "id": "78850227-22bf-4109-8900-a3e9f89a8221",
   "metadata": {},
   "outputs": [],
   "source": [
    "m_dict_results_series = {\n",
    "    'persona': {'dfs': m_results_runs_series['persona'], 'color': 'blue', 'label': 'persona'},\n",
    "    'nopersona': {'dfs': m_results_runs_series['nopersona'], 'color': 'red', 'label': 'no persona you'},\n",
    "}"
   ]
  },
  {
   "cell_type": "code",
   "execution_count": null,
   "id": "22477a77-380d-4a72-b5cf-8f7c6b158feb",
   "metadata": {},
   "outputs": [],
   "source": [
    "q_dict_results_series = {\n",
    "    'persona': {'dfs': q_results_runs_series['persona'], 'color': 'blue', 'label': 'persona'},\n",
    "    'nopersona': {'dfs': q_results_runs_series['nopersona'], 'color': 'red', 'label': 'no persona you'},\n",
    "}"
   ]
  },
  {
   "cell_type": "code",
   "execution_count": null,
   "id": "dda92503-4cdd-45ca-88d0-a69a14fc94df",
   "metadata": {},
   "outputs": [],
   "source": [
    "def plot_joint_series(m_dict_results, q_dict_results, metric, savename):\n",
    "    fig, axs = plt.subplots(1, 2, figsize=(7,3))\n",
    "    min_s, max_s = 1, 0\n",
    "    \n",
    "    for k_type, v_type in m_dict_results.items():\n",
    "        for k_run, v_run in v_type['dfs'].items():\n",
    "            axs[0].plot(v_run['crowdsize'], v_run[metric], color=v_type['color'], label=v_type['label'], linewidth=0.5)\n",
    "            min_r, max_r = v_run[metric].min(), v_run[metric].max()\n",
    "            min_s = min_r if min_r < min_s else min_s\n",
    "            max_s = max_r if max_r > max_s else max_s\n",
    "\n",
    "    for k_type, v_type in q_dict_results.items():\n",
    "        for k_run, v_run in v_type['dfs'].items():\n",
    "            axs[1].plot(v_run['crowdsize'], v_run[metric], color=v_type['color'], label=v_type['label'], linewidth=0.5)\n",
    "            min_r, max_r = v_run[metric].min(), v_run[metric].max()\n",
    "            min_s = min_r if min_r < min_s else min_s\n",
    "            max_s = max_r if max_r > max_s else max_s\n",
    "\n",
    "    axs[0].set_title('Mistral')\n",
    "    axs[1].set_title('Qwen')\n",
    "    axs[0].set_ylim((min_s-0.05,max_s+0.05))\n",
    "    axs[1].set_ylim((min_s-0.05,max_s+0.05))\n",
    "    axs[0].set(xlabel='crowd size', ylabel=metric)\n",
    "    axs[1].set(xlabel='crowd size') #, ylabel=metric)\n",
    "    plt.savefig(os.path.join(resultsdir, modelname+f'{savename}.pdf'), bbox_inches='tight')\n",
    "    plt.show()"
   ]
  },
  {
   "cell_type": "code",
   "execution_count": null,
   "id": "4d5471ad-c413-4236-a86f-60977a87c1ba",
   "metadata": {},
   "outputs": [],
   "source": [
    "plot_joint_series(m_dict_results_series, q_dict_results_series, 'mavg_f1-score', 'study_1_crowds_mavg_f1-score')"
   ]
  },
  {
   "cell_type": "markdown",
   "id": "ac175fdf-3c87-4e62-9ff8-64b6d0e79e41",
   "metadata": {},
   "source": [
    "#### Figures Permutations"
   ]
  },
  {
   "cell_type": "code",
   "execution_count": null,
   "id": "50fa992c-7fb1-4549-96a8-430b5f23af49",
   "metadata": {},
   "outputs": [],
   "source": [
    "with open(os.path.join(m_outdatadir,'crowd_permutations.pkl'), 'rb') as f:\n",
    "    m_dict_permutations_series = pickle.load(f)"
   ]
  },
  {
   "cell_type": "code",
   "execution_count": null,
   "id": "8bc35741-8c6c-430f-ac79-2966dcaa0b91",
   "metadata": {},
   "outputs": [],
   "source": [
    "with open(os.path.join(q_outdatadir,'crowd_permutations.pkl'), 'rb') as f:\n",
    "    q_dict_permutations_series = pickle.load(f)"
   ]
  },
  {
   "cell_type": "code",
   "execution_count": null,
   "id": "8def9bc0-9e88-4a05-8bae-e2780564a2a5",
   "metadata": {},
   "outputs": [],
   "source": [
    "plot_joint_series(m_dict_permutations_series, q_dict_permutations_series, 'mavg_f1-score', 'study_1_permutations')"
   ]
  },
  {
   "cell_type": "markdown",
   "id": "bc84929d-e3e2-4488-af26-201455539cff",
   "metadata": {},
   "source": [
    "### Study 2"
   ]
  },
  {
   "cell_type": "markdown",
   "id": "dbbdb3fe-120d-4904-8d85-8adb62bb7e11",
   "metadata": {},
   "source": [
    "#### Boxplots"
   ]
  },
  {
   "cell_type": "code",
   "execution_count": null,
   "id": "3777ac8e-fc94-49e7-bb50-d906b82985c8",
   "metadata": {},
   "outputs": [],
   "source": [
    "with open(os.path.join('personas','joint_results','mistral_stability.pkl'), 'rb') as f:\n",
    "    mistral_dicts = pickle.load(f)\n",
    "\n",
    "with open(os.path.join('personas','joint_results','qwen_stability.pkl'), 'rb') as f:\n",
    "    qwen_dicts = pickle.load(f)"
   ]
  },
  {
   "cell_type": "code",
   "execution_count": null,
   "id": "2d83a783-d4a6-4a4f-ba3f-12b79b24713b",
   "metadata": {},
   "outputs": [],
   "source": [
    "m_data_ = mistral_dicts['data_']\n",
    "m_bracket_boxplots = mistral_dicts['bracket_boxplots']\n",
    "m_brackets = mistral_dicts['brackets']"
   ]
  },
  {
   "cell_type": "code",
   "execution_count": null,
   "id": "cd7a45b1-11eb-40a0-8e2d-e8db5f6ef597",
   "metadata": {},
   "outputs": [],
   "source": [
    "q_data_ = qwen_dicts['data_']\n",
    "q_bracket_boxplots = qwen_dicts['bracket_boxplots']\n",
    "q_brackets = qwen_dicts['brackets']"
   ]
  },
  {
   "cell_type": "markdown",
   "id": "37902441-f076-4ab4-9bf7-8cbd3d41d97b",
   "metadata": {},
   "source": [
    "##### statistical test: equality of variance in two non-normal samples (levene test)\n",
    "h0: all input samples from populations with equal variances"
   ]
  },
  {
   "cell_type": "code",
   "execution_count": null,
   "id": "422d4e56-b099-448c-a217-f296f2d6d152",
   "metadata": {},
   "outputs": [],
   "source": [
    "from scipy import stats"
   ]
  },
  {
   "cell_type": "code",
   "execution_count": null,
   "id": "285d843a-52a1-4a8a-8582-cc80507a8218",
   "metadata": {},
   "outputs": [],
   "source": [
    "stats.levene(m_data_['persona'], m_data_['nopersona'])"
   ]
  },
  {
   "cell_type": "code",
   "execution_count": null,
   "id": "fedb8372-c16a-4dc3-9c26-7d938103742b",
   "metadata": {},
   "outputs": [],
   "source": [
    "stats.levene(q_data_['persona'], q_data_['nopersona'])"
   ]
  },
  {
   "cell_type": "markdown",
   "id": "af98f63f-8e0a-49f7-825c-1ef549d28348",
   "metadata": {},
   "source": [
    "##### figures"
   ]
  },
  {
   "cell_type": "code",
   "execution_count": null,
   "id": "ad543b57-8e70-477d-a790-2bc6f4bcb788",
   "metadata": {},
   "outputs": [],
   "source": [
    "fig, axs = plt.subplots(2,2,figsize=(11,8),gridspec_kw={'width_ratios': [1, 5]})\n",
    "\n",
    "axs[0,0].boxplot(m_data_.values(), widths=0.7)\n",
    "# axs[0,0].set_xticklabels(['pers.','no pers.']) #, rotation=45)\n",
    "axs[0,0].set_xticks([])\n",
    "# axs[0,0].set_ylabel('mavg_f1-score')\n",
    "axs[0,0].set_ylabel('Mistral')\n",
    "axs[0,0].set_ylim((0.35,0.85))\n",
    "axs[0,0].set_title('a)')\n",
    "\n",
    "axs[0,1].boxplot(m_bracket_boxplots.values())\n",
    "axs[0,1].set_xlim((-2,92)) # create whitespace left and right\n",
    "axs[0,1].set_ylim((0.35,0.85))\n",
    "axs[0,1].plot([i+1 for i in range(len(m_brackets))], m_brackets['mavg_f1-score'], linestyle='', marker='o', markersize=2, mec='red')\n",
    "# axs[0,1].set_xticks([15,45,75], ['30 min personas', '30 median persona', '30 max personas'])\n",
    "axs[0,1].set_xticks([])\n",
    "axs[0,1].set_yticks([])\n",
    "axs[0,1].set_title('b)')\n",
    "axs[0,1].plot((30.5,30.5),(0.35,0.85), color='black', ls='--', linewidth=0.4)\n",
    "axs[0,1].plot((60.5,60.5),(0.35,0.85), color='black', ls='--', linewidth=0.4)\n",
    "\n",
    "axs[1,0].boxplot(q_data_.values(), widths=0.7)\n",
    "axs[1,0].set_xticklabels(['pers.','no pers.']) #, rotation=45)\n",
    "# axs[1,0].set_ylabel('mavg_f1-score')\n",
    "axs[1,0].set_ylabel('Qwen')\n",
    "axs[1,0].set_ylim((0.35,0.85))\n",
    "axs[1,0].set_title('c)')\n",
    "\n",
    "axs[1,1].boxplot(q_bracket_boxplots.values())\n",
    "axs[1,1].set_xlim((-2,92)) # create whitespace left and right\n",
    "axs[1,1].set_ylim((0.35,0.85))\n",
    "axs[1,1].plot([i+1 for i in range(len(q_brackets))], q_brackets['mavg_f1-score'], linestyle='', marker='o', markersize=2, mec='red')\n",
    "axs[1,1].set_xticks([15,45,75], ['30 min personas', '30 median persona', '30 max personas'])\n",
    "axs[1,1].set_yticks([])\n",
    "axs[1,1].set_title('d)')\n",
    "axs[1,1].plot((30.5,30.5),(0.35,0.85), color='black', ls='--', linewidth=0.4)\n",
    "axs[1,1].plot((60.5,60.5),(0.35,0.85), color='black', ls='--', linewidth=0.4)\n",
    "\n",
    "plt.subplots_adjust(wspace=0.02, hspace=0.1)\n",
    "plt.savefig(os.path.join('personas','joint_results', modelname+'study_2_stability.pdf'), bbox_inches='tight')\n",
    "plt.show()"
   ]
  },
  {
   "cell_type": "markdown",
   "id": "0260e277-a644-40a3-b7e3-5895c9bcc101",
   "metadata": {},
   "source": [
    "##### get persona descriptions and write to .xlsx for qualitative analysis"
   ]
  },
  {
   "cell_type": "code",
   "execution_count": null,
   "id": "e94d34b1-f2f6-4ff4-ae44-e07bf8593870",
   "metadata": {},
   "outputs": [],
   "source": [
    "pd_personas = pd.read_pickle(os.path.join('personas','data_ext','pd_personas_cleaned.pkl'))"
   ]
  },
  {
   "cell_type": "code",
   "execution_count": null,
   "id": "1ec8e36f-6988-4e39-9bd2-0040ed0fcdf7",
   "metadata": {},
   "outputs": [],
   "source": [
    "m_brackets = m_brackets.astype({'personaId': int})\n",
    "q_brackets = q_brackets.astype({'personaId': int})"
   ]
  },
  {
   "cell_type": "code",
   "execution_count": null,
   "id": "a645fc3d-8e79-4fb3-ab95-0b4aab0ca02b",
   "metadata": {},
   "outputs": [],
   "source": [
    "m_brackets = m_brackets.merge(pd_personas[['personaId','persona']], on='personaId', how='left')\n",
    "q_brackets = q_brackets.merge(pd_personas[['personaId','persona']], on='personaId', how='left')"
   ]
  },
  {
   "cell_type": "code",
   "execution_count": null,
   "id": "8d3844db-03f4-4924-9b9c-4694ce7b61d3",
   "metadata": {},
   "outputs": [],
   "source": [
    "m_brackets.to_excel(os.path.join('personas','joint_results','bracket_personas_mistral.xlsx'))\n",
    "q_brackets.to_excel(os.path.join('personas','joint_results','bracket_personas_qwen.xlsx'))"
   ]
  },
  {
   "cell_type": "markdown",
   "id": "dac89a45-b42a-4c00-b386-970a316be3de",
   "metadata": {},
   "source": [
    "### Study 3"
   ]
  },
  {
   "cell_type": "markdown",
   "id": "0b4d778e-bef3-4dbd-833c-dcecd056b6db",
   "metadata": {},
   "source": [
    "#### Normalized label-space distances for persona-space clusters "
   ]
  },
  {
   "cell_type": "code",
   "execution_count": null,
   "id": "f5cb240f-bc62-4d78-8065-ccd1367d1902",
   "metadata": {},
   "outputs": [],
   "source": [
    "with open(os.path.join('personas','mistral_study_3','all_dists_full.pkl'), 'rb') as f:\n",
    "    m_all_dists_full = pickle.load(f)\n",
    "\n",
    "m_all_dists_personas_full = m_all_dists_full['personas']\n",
    "m_all_dists_labels_full = m_all_dists_full['labels']"
   ]
  },
  {
   "cell_type": "code",
   "execution_count": null,
   "id": "9eac05d8-d771-4c8f-9cb9-a0c8144c6373",
   "metadata": {},
   "outputs": [],
   "source": [
    "with open(os.path.join('personas','qwen_study_3','all_dists_full.pkl'), 'rb') as f:\n",
    "    q_all_dists_full = pickle.load(f)\n",
    "\n",
    "q_all_dists_personas_full = q_all_dists_full['personas']\n",
    "q_all_dists_labels_full = q_all_dists_full['labels']"
   ]
  },
  {
   "cell_type": "code",
   "execution_count": null,
   "id": "597b3bc3-8bba-4b59-85c5-2776841adcee",
   "metadata": {},
   "outputs": [],
   "source": [
    "m_data = m_all_dists_labels_full.astype(float).copy()\n",
    "q_data = q_all_dists_labels_full.astype(float).copy()"
   ]
  },
  {
   "cell_type": "code",
   "execution_count": null,
   "id": "72a89b4b-59a5-452b-9b66-ad2a40c7c6f5",
   "metadata": {},
   "outputs": [],
   "source": [
    "m_norm_data = (m_data - np.min(m_data, axis=1)) / np.ptp(m_data, axis=1)\n",
    "q_norm_data = (q_data - np.min(q_data, axis=1)) / np.ptp(q_data, axis=1)"
   ]
  },
  {
   "cell_type": "code",
   "execution_count": null,
   "id": "99a9e9f6-ac03-4ad0-b36d-bd0547c1bbe4",
   "metadata": {},
   "outputs": [],
   "source": [
    "# m_argmins = []\n",
    "# for row in range(m_data.shape[0]):\n",
    "#     m_argmins.append(np.argmin(m_data[row,:]))"
   ]
  },
  {
   "cell_type": "code",
   "execution_count": null,
   "id": "03de4bed-5855-4345-bc2a-ad2e29d305e6",
   "metadata": {},
   "outputs": [],
   "source": [
    "# q_argmins = []\n",
    "# for row in range(q_data.shape[0]):\n",
    "#     q_argmins.append(np.argmin(q_data[row,:]))"
   ]
  },
  {
   "cell_type": "code",
   "execution_count": null,
   "id": "c23c8cd2-2abf-4bdf-8cca-8af79ed2c46f",
   "metadata": {},
   "outputs": [],
   "source": [
    "print(m_norm_data.shape)\n",
    "print(q_norm_data.shape)"
   ]
  },
  {
   "cell_type": "markdown",
   "id": "5a53685e-1e74-4c28-9600-a24c01a5e0ba",
   "metadata": {},
   "source": [
    "##### full versions - separately for zoom plot"
   ]
  },
  {
   "cell_type": "code",
   "execution_count": null,
   "id": "a23dc447-a6b9-4bb8-9ee6-aac2c1e0d1e8",
   "metadata": {},
   "outputs": [],
   "source": [
    "fig, ax1 = plt.subplots(1, 1, figsize=(5,5))\n",
    "\n",
    "im1 = ax1.imshow(m_norm_data, interpolation='nearest', cmap='viridis_r', origin='lower')\n",
    "ax1.set_xlabel('Persona Cluster ID X')\n",
    "ax1.set_ylabel('Persona Cluster ID Y')\n",
    "ax1.set_yticks([0,500,1000,1500,2000])\n",
    "ax1.set_yticklabels([0,500,1000,1500,2000])\n",
    "ax1.set_xticks([0,500,1000,1500,2000])\n",
    "ax1.set_xticklabels([0,500,1000,1500,2000])\n",
    "ax1.set_title('Mistral')\n",
    "\n",
    "plt.savefig(os.path.join(resultsdir,modelname+'study_2_pcluster_distances_label_normalized_mistral.png'), bbox_inches='tight')\n",
    "plt.show()"
   ]
  },
  {
   "cell_type": "code",
   "execution_count": null,
   "id": "9636221c-2256-4e96-876a-474028592ed3",
   "metadata": {},
   "outputs": [],
   "source": [
    "fig, ax1 = plt.subplots(1, 1, figsize=(5,5))\n",
    "\n",
    "im1 = ax1.imshow(q_norm_data, interpolation='nearest', cmap='viridis_r', origin='lower')\n",
    "ax1.set_xlabel('Persona Cluster ID X')\n",
    "ax1.set_ylabel('Persona Cluster ID Y')\n",
    "ax1.set_yticks([0,500,1000,1500,2000])\n",
    "ax1.set_yticklabels([0,500,1000,1500,2000])\n",
    "ax1.set_xticks([0,500,1000,1500,2000])\n",
    "ax1.set_xticklabels([0,500,1000,1500,2000])\n",
    "ax1.set_title('Qwen')\n",
    "\n",
    "plt.savefig(os.path.join(resultsdir,modelname+'study_2_pcluster_distances_label_normalized_qwen.png'), bbox_inches='tight')\n",
    "plt.show()"
   ]
  },
  {
   "cell_type": "markdown",
   "id": "df726bca-6814-46db-86f2-dcfb3bd61213",
   "metadata": {},
   "source": [
    "##### zoomed versions - separately for zoom plot"
   ]
  },
  {
   "cell_type": "code",
   "execution_count": null,
   "id": "3ca71a39-b9ba-4eb7-8e1a-e3b8bf13a02c",
   "metadata": {},
   "outputs": [],
   "source": [
    "cmin, cmax = 1000, 1100\n",
    "m_norm_zoom = m_norm_data[cmin:cmax,cmin:cmax]\n",
    "q_norm_zoom = q_norm_data[cmin:cmax,cmin:cmax]"
   ]
  },
  {
   "cell_type": "code",
   "execution_count": null,
   "id": "6e9a9b8e-b543-47e5-95a4-444c56671226",
   "metadata": {},
   "outputs": [],
   "source": [
    "fig, ax1 = plt.subplots(1, 1, figsize=(5,5))\n",
    "\n",
    "im1 = ax1.imshow(m_norm_zoom, interpolation='nearest', cmap='viridis_r', origin='lower')\n",
    "ax1.set_yticks([])\n",
    "ax1.set_yticklabels([])\n",
    "ax1.set_xticks([20*(i+1) for i in range(4)])\n",
    "ax1.set_xticklabels([cmin+20*(i+1) for i in range(4)])\n",
    "\n",
    "plt.savefig(os.path.join(resultsdir,modelname+'study_2_pcluster_distances_label_zoomed_mistral.png'), bbox_inches='tight')\n",
    "plt.show()"
   ]
  },
  {
   "cell_type": "code",
   "execution_count": null,
   "id": "f169ab32-e8ce-412c-a24b-caf38ece2717",
   "metadata": {},
   "outputs": [],
   "source": [
    "fig, ax1 = plt.subplots(1, 1, figsize=(5,5))\n",
    "\n",
    "im1 = ax1.imshow(q_norm_zoom, interpolation='nearest', cmap='viridis_r', origin='lower')\n",
    "ax1.set_yticks([])\n",
    "ax1.set_yticklabels([])\n",
    "ax1.set_xticks([20*(i+1) for i in range(4)])\n",
    "ax1.set_xticklabels([cmin+20*(i+1) for i in range(4)])\n",
    "\n",
    "plt.savefig(os.path.join(resultsdir,modelname+'study_2_pcluster_distances_label_zoomed_qwen.png'), bbox_inches='tight')\n",
    "plt.show()"
   ]
  },
  {
   "cell_type": "markdown",
   "id": "7ddec991-d91d-4eb6-88c7-4258696d7e21",
   "metadata": {},
   "source": [
    "#### Normalized persona-space distances for label-space clusters "
   ]
  },
  {
   "cell_type": "code",
   "execution_count": null,
   "id": "a285b204-e6b8-468c-b5c1-4858b23fb115",
   "metadata": {},
   "outputs": [],
   "source": [
    "import torch"
   ]
  },
  {
   "cell_type": "code",
   "execution_count": null,
   "id": "2534452c-8539-4223-8354-1e10aae8a716",
   "metadata": {},
   "outputs": [],
   "source": [
    "from sklearn.metrics.pairwise import cosine_distances\n",
    "\n",
    "def distance_between_clusters(vectors_i, vectors_j):\n",
    "    dists = cosine_distances(vectors_i, vectors_j)**2\n",
    "    return np.mean(dists)\n",
    "\n",
    "def create_distance_matrix(dict_clusters):\n",
    "    cluster_distances = []\n",
    "    for k1, v1 in dict_clusters.items():\n",
    "        dists = []\n",
    "        for k2, v2 in dict_clusters.items():\n",
    "            if k1 > k2:\n",
    "                dists.append(None)\n",
    "            else:\n",
    "                dists.append(distance_between_clusters(v1, v2))\n",
    "        cluster_distances.append(dists)\n",
    "    return cluster_distances\n",
    "\n",
    "def create_full_matrix(mx):\n",
    "    new_mx = np.matrix(mx)\n",
    "    for i in range(new_mx.shape[0]):\n",
    "        for j in range(new_mx.shape[1]):\n",
    "            if i > j:\n",
    "                new_mx[i,j] = mx[j][i]\n",
    "            else:\n",
    "                new_mx[i,j] = mx[i][j]\n",
    "    return new_mx\n",
    "\n",
    "def calculate_cluster_distances(pd_clusters_, persona_embeddings, label_embeddings, lclusters=False):\n",
    "    if not lclusters:\n",
    "        cluster_personas = {i: persona_embeddings[pd_clusters_.iloc[i,2]] for i in range(len(pd_clusters_))}\n",
    "        cluster_labels = {i: label_embeddings[pd_clusters_.iloc[i,2]] for i in range(len(pd_clusters_))}\n",
    "    else:\n",
    "        cluster_personas = {i: persona_embeddings[list(pd_clusters_[pd_clusters_['clusterId_label']==i]['personaIndex'])] for i in range(pd_clusters_['clusterId_label'].max()+1)}\n",
    "        cluster_labels = {i: label_embeddings[list(pd_clusters_[pd_clusters_['clusterId_label']==i]['personaIndex'])] for i in range(pd_clusters_['clusterId_label'].max()+1)}\n",
    "    \n",
    "    cluster_distances_personas = create_distance_matrix(cluster_personas)\n",
    "    cluster_distances_labels = create_distance_matrix(cluster_labels)\n",
    "\n",
    "    cluster_distances_personas_full = create_full_matrix(cluster_distances_personas)\n",
    "    cluster_distances_labels_full = create_full_matrix(cluster_distances_labels)\n",
    "\n",
    "    return cluster_distances_personas_full, cluster_distances_labels_full"
   ]
  },
  {
   "cell_type": "markdown",
   "id": "bdd90ac7-401a-499f-a34f-140f2efb4290",
   "metadata": {},
   "source": [
    "mistral"
   ]
  },
  {
   "cell_type": "code",
   "execution_count": null,
   "id": "f50c83c6-4cba-4ece-9e38-0f739fb04f5c",
   "metadata": {},
   "outputs": [],
   "source": [
    "pd_lclusters = pd.read_pickle(os.path.join('personas','mistral_study_3','pd_lclusters.pkl'))\n",
    "\n",
    "pd_personas_lclusters = pd.read_pickle(os.path.join('personas','mistral_study_3','pd_personas_lclusters.pkl')) # label-cluster membership of personas\n",
    "pd_personas_lclusters['personaIndex'] = pd_personas_lclusters.index \n",
    "\n",
    "pd_personas_labels = pd.read_pickle(os.path.join('personas','mistral_study_3','pd_personas_labels.pkl')) # personas with persona and label embeddings"
   ]
  },
  {
   "cell_type": "code",
   "execution_count": null,
   "id": "780f4532-b371-46ae-9511-4495e53512b8",
   "metadata": {},
   "outputs": [],
   "source": [
    "lc_label_embeddings = torch.tensor(pd_personas_labels['labels']).float().cpu()\n",
    "lc_persona_embeddings = torch.tensor(pd_personas_labels['embed']).float().cpu()"
   ]
  },
  {
   "cell_type": "code",
   "execution_count": null,
   "id": "7ec6f15a-9606-4252-98ac-c6acffd7072d",
   "metadata": {},
   "outputs": [],
   "source": [
    "%time m_lc_all_dists_personas_full, m_lc_all_dists_labels_full = calculate_cluster_distances(pd_personas_lclusters, lc_persona_embeddings, lc_label_embeddings, lclusters=True)"
   ]
  },
  {
   "cell_type": "markdown",
   "id": "dfd442bc-8b14-46a6-a5d6-54e95fd70fb7",
   "metadata": {},
   "source": [
    "qwen"
   ]
  },
  {
   "cell_type": "code",
   "execution_count": null,
   "id": "a5dc0e1b-1f11-4e32-8d9b-4895b0a74902",
   "metadata": {},
   "outputs": [],
   "source": [
    "pd_lclusters = pd.read_pickle(os.path.join('personas','qwen_study_3','pd_lclusters.pkl'))\n",
    "\n",
    "pd_personas_lclusters = pd.read_pickle(os.path.join('personas','qwen_study_3','pd_personas_lclusters.pkl')) # label-cluster membership of personas\n",
    "pd_personas_lclusters['personaIndex'] = pd_personas_lclusters.index \n",
    "\n",
    "pd_personas_labels = pd.read_pickle(os.path.join('personas','qwen_study_3','pd_personas_labels.pkl')) # personas with persona and label embeddings"
   ]
  },
  {
   "cell_type": "code",
   "execution_count": null,
   "id": "c325f7ba-0e28-4551-a372-3ae0bb0898f5",
   "metadata": {},
   "outputs": [],
   "source": [
    "lc_label_embeddings = torch.tensor(pd_personas_labels['labels']).float().cpu()\n",
    "lc_persona_embeddings = torch.tensor(pd_personas_labels['embed']).float().cpu()"
   ]
  },
  {
   "cell_type": "code",
   "execution_count": null,
   "id": "14451515-68f1-4f14-aa34-d19d8025702f",
   "metadata": {},
   "outputs": [],
   "source": [
    "%time q_lc_all_dists_personas_full, q_lc_all_dists_labels_full = calculate_cluster_distances(pd_personas_lclusters, lc_persona_embeddings, lc_label_embeddings, lclusters=True)"
   ]
  },
  {
   "cell_type": "markdown",
   "id": "929ddd10-a42a-4bd6-92a0-c35add13f919",
   "metadata": {},
   "source": [
    "combine"
   ]
  },
  {
   "cell_type": "code",
   "execution_count": null,
   "id": "febcf6b9-7355-4b3c-86c3-4712be7f708b",
   "metadata": {},
   "outputs": [],
   "source": [
    "m_data = m_lc_all_dists_personas_full.astype(float).copy()\n",
    "q_data = q_lc_all_dists_personas_full.astype(float).copy()"
   ]
  },
  {
   "cell_type": "code",
   "execution_count": null,
   "id": "34df4052-0b74-484b-91df-62affac2862c",
   "metadata": {},
   "outputs": [],
   "source": [
    "m_norm_data = (m_data - np.min(m_data, axis=1)) / np.ptp(m_data, axis=1)\n",
    "q_norm_data = (q_data - np.min(q_data, axis=1)) / np.ptp(q_data, axis=1)"
   ]
  },
  {
   "cell_type": "code",
   "execution_count": null,
   "id": "87cb9723-d215-4aa1-adc2-50d6ceade96b",
   "metadata": {},
   "outputs": [],
   "source": [
    "fig, (ax1, ax2) = plt.subplots(1, 2, figsize=(10,5))\n",
    "\n",
    "im1 = ax1.imshow(m_norm_data, interpolation='nearest', cmap='viridis_r', origin='lower')\n",
    "ax1.set_xlabel('Persona Cluster ID X')\n",
    "ax1.set_ylabel('Persona Cluster ID Y')\n",
    "ax1.set_yticks([0,2,4,6,8,10])\n",
    "ax1.set_yticklabels([0,2,4,6,8,10])\n",
    "ax1.set_title('Mistral')\n",
    "# ax1.scatter(m_argmins, [i for i in range(len(m_argmins))], color='red', s=.1)\n",
    "\n",
    "im2 = ax2.imshow(q_norm_data, interpolation='nearest', cmap='viridis_r', origin='lower')\n",
    "ax2.set_xlabel('Persona Cluster ID X')\n",
    "ax2.set_yticks([])\n",
    "ax2.set_title('Qwen')\n",
    "# ax2.scatter(q_argmins, [i for i in range(len(q_argmins))], color='red', s=.1)\n",
    "\n",
    "plt.subplots_adjust(wspace=0.07)\n",
    "plt.savefig(os.path.join(resultsdir,modelname+'study_2_lcluster_distances_persona_normalized.pdf'), bbox_inches='tight')\n",
    "plt.show()"
   ]
  },
  {
   "cell_type": "markdown",
   "id": "6686c74e-c6c9-4b2a-b52c-5fdc2898a518",
   "metadata": {},
   "source": [
    "##### plot persona space distances"
   ]
  },
  {
   "cell_type": "code",
   "execution_count": null,
   "id": "eae89442-e17a-4e88-aaa2-cece9979db7d",
   "metadata": {},
   "outputs": [],
   "source": [
    "with open(os.path.join('personas','mistral_study_3','all_dists_full.pkl'), 'rb') as f:\n",
    "    all_dists_full = pickle.load(f)\n",
    "\n",
    "all_dists_personas_full = all_dists_full['personas']\n",
    "all_dists_labels_full = all_dists_full['labels']"
   ]
  },
  {
   "cell_type": "code",
   "execution_count": null,
   "id": "5a686afc-d312-4e63-b905-7e373c198a85",
   "metadata": {},
   "outputs": [],
   "source": [
    "data = all_dists_personas_full.astype(float).copy()"
   ]
  },
  {
   "cell_type": "code",
   "execution_count": null,
   "id": "9f718e95-e9cd-40df-ac5a-6e8756333fd8",
   "metadata": {},
   "outputs": [],
   "source": [
    "norm_data = (data - np.min(data, axis=1)) / np.ptp(data, axis=1)"
   ]
  },
  {
   "cell_type": "code",
   "execution_count": null,
   "id": "22bb4dfb-0720-4827-9c46-6bc76489a7c4",
   "metadata": {},
   "outputs": [],
   "source": [
    "fig, ax1 = plt.subplots(1, 1, figsize=(5,5))\n",
    "\n",
    "im1 = ax1.imshow(norm_data, interpolation='nearest', cmap='viridis_r', origin='lower')\n",
    "ax1.set_xlabel('Persona Cluster ID X')\n",
    "ax1.set_ylabel('Persona Cluster ID Y')\n",
    "ax1.set_yticks([0,500,1000,1500,2000])\n",
    "ax1.set_yticklabels([0,500,1000,1500,2000])\n",
    "ax1.set_xticks([0,500,1000,1500,2000])\n",
    "ax1.set_xticklabels([0,500,1000,1500,2000])\n",
    "\n",
    "ax1.set_title('Both Models')\n",
    "# ax1.scatter(m_argmins, [i for i in range(len(m_argmins))], color='red', s=.1)\n",
    "\n",
    "# im2 = ax2.imshow(norm_data, interpolation='nearest', cmap='viridis_r', origin='lower')\n",
    "# ax2.set_xlabel('Persona Cluster ID X')\n",
    "# ax2.set_yticks([])\n",
    "# ax2.set_title('Qwen')\n",
    "# ax2.scatter(q_argmins, [i for i in range(len(q_argmins))], color='red', s=.1)\n",
    "\n",
    "plt.subplots_adjust(wspace=0.07)\n",
    "plt.savefig(os.path.join(resultsdir,modelname+'study_2_pcluster_distances_persona_normalized.png'), bbox_inches='tight')\n",
    "plt.show()"
   ]
  },
  {
   "cell_type": "markdown",
   "id": "3d312d67-41ba-4d0b-afa3-aa973e3cfb4d",
   "metadata": {},
   "source": [
    "#### Correlation Coefficients"
   ]
  },
  {
   "cell_type": "code",
   "execution_count": null,
   "id": "ae2b9422-c935-4e6a-8260-1959021271e8",
   "metadata": {},
   "outputs": [],
   "source": [
    "m_pd_spearman = pd.read_pickle(os.path.join('personas','mistral_study_3','correlations_spearman.pkl'))\n",
    "q_pd_spearman = pd.read_pickle(os.path.join('personas','qwen_study_3','correlations_spearman.pkl'))"
   ]
  },
  {
   "cell_type": "code",
   "execution_count": null,
   "id": "6e7125f0-1ec1-42b1-8b2a-5b47394b250c",
   "metadata": {},
   "outputs": [],
   "source": [
    "fig, axs = plt.subplots(1, 2, figsize=(10,5))\n",
    "\n",
    "axs[0].hist(m_pd_spearman[m_pd_spearman['pvalue']<0.05]['statistic'], bins=[-0.25+i*0.01 for i in range(50)])\n",
    "axs[0].plot((0,0),(0,19000), color='red', ls='--', linewidth=0.8)\n",
    "axs[0].set_ylim((0,19000))\n",
    "axs[0].set_title('Mistral')\n",
    "\n",
    "axs[1].hist(q_pd_spearman[q_pd_spearman['pvalue']<0.05]['statistic'], bins=[-0.25+i*0.01 for i in range(50)])\n",
    "axs[1].set_yticks([])\n",
    "axs[1].plot((0,0),(0,19000), color='red', ls='--', linewidth=0.8)\n",
    "axs[1].set_ylim((0,19000))\n",
    "axs[1].set_title('Qwen')\n",
    "\n",
    "plt.subplots_adjust(wspace=0.07)\n",
    "plt.savefig(os.path.join(resultsdir,modelname+'study_3_correlations.pdf'), bbox_inches='tight')\n",
    "plt.show()"
   ]
  },
  {
   "cell_type": "markdown",
   "id": "5ff7526b-7efb-4647-a203-6bf302c1b0d7",
   "metadata": {},
   "source": [
    "### Study 4"
   ]
  },
  {
   "cell_type": "code",
   "execution_count": null,
   "id": "a577d07e-b406-4de1-9f1c-6be538a486f6",
   "metadata": {},
   "outputs": [],
   "source": [
    "dict_results = {'Mistral': {'AAE': {}, 'Anti-Black': {}}, 'Qwen': {'AAE': {}, 'Anti-Black': {}}}"
   ]
  },
  {
   "cell_type": "code",
   "execution_count": null,
   "id": "323bed65-dff3-4569-a47b-06a380c630bb",
   "metadata": {},
   "outputs": [],
   "source": [
    "for m in ['Mistral', 'Qwen']:\n",
    "    # for p in ['neutral_black', 'neutral_neutral', 'neutral_white']:\n",
    "    for p in ['neutral_black', 'neutral_neutral', 'neutral_conservative']:\n",
    "    # for p in ['neutral_black', 'neutral_africanamerican', 'neutral_neutral', 'neutral_conservative']:\n",
    "        if m == 'Mistral':\n",
    "            pd_ = pd.read_pickle(os.path.join(m_indatadir4,f'{p}_annotations.pkl'))\n",
    "        else:\n",
    "            pd_ = pd.read_pickle(os.path.join(q_indatadir4,f'{p}_annotations.pkl'))\n",
    "        dict_results[m]['AAE'][p] = pd_[(pd_['isAAE']==True)&((pd_['isAntiBlack']==False))]\n",
    "        dict_results[m]['Anti-Black'][p] = pd_[(pd_['isAAE']==False)&((pd_['isAntiBlack']==True))]"
   ]
  },
  {
   "cell_type": "code",
   "execution_count": null,
   "id": "8c2bf2dd-3f9b-4dc3-a6a1-83edc6e42e2b",
   "metadata": {},
   "outputs": [],
   "source": [
    "for m_k, m_v in dict_results.items():\n",
    "    for t_k, t_v in m_v.items():\n",
    "        for p_k, p_v in t_v.items():\n",
    "            print(m_k, t_k, p_k, np.round(p_v.iloc[:,10:].astype(int).mean().mean(), 2))"
   ]
  },
  {
   "cell_type": "code",
   "execution_count": null,
   "id": "342c17c2-506d-4935-bda2-372345b0af04",
   "metadata": {},
   "outputs": [],
   "source": [
    "q_aae_b = dict_results['Qwen']['AAE']['neutral_black'].iloc[:,10:].astype(int).mean()\n",
    "q_aae_c = dict_results['Qwen']['AAE']['neutral_conservative'].iloc[:,10:].astype(int).mean()\n",
    "q_aae_n = dict_results['Qwen']['AAE']['neutral_neutral'].iloc[:,10:].astype(int).mean()\n",
    "\n",
    "m_aae_b = dict_results['Mistral']['AAE']['neutral_black'].iloc[:,10:].astype(int).mean()\n",
    "m_aae_c = dict_results['Mistral']['AAE']['neutral_conservative'].iloc[:,10:].astype(int).mean()\n",
    "m_aae_n = dict_results['Mistral']['AAE']['neutral_neutral'].iloc[:,10:].astype(int).mean()\n",
    "\n",
    "q_ab_b = dict_results['Qwen']['Anti-Black']['neutral_black'].iloc[:,10:].astype(int).mean()\n",
    "q_ab_c = dict_results['Qwen']['Anti-Black']['neutral_conservative'].iloc[:,10:].astype(int).mean()\n",
    "q_ab_n = dict_results['Qwen']['Anti-Black']['neutral_neutral'].iloc[:,10:].astype(int).mean()\n",
    "\n",
    "m_ab_b = dict_results['Mistral']['Anti-Black']['neutral_black'].iloc[:,10:].astype(int).mean()\n",
    "m_ab_c = dict_results['Mistral']['Anti-Black']['neutral_conservative'].iloc[:,10:].astype(int).mean()\n",
    "m_ab_n = dict_results['Mistral']['Anti-Black']['neutral_neutral'].iloc[:,10:].astype(int).mean()"
   ]
  },
  {
   "cell_type": "code",
   "execution_count": null,
   "id": "aabc05dc-61e7-497c-bace-17303c2c7a01",
   "metadata": {},
   "outputs": [],
   "source": [
    "from scipy import stats"
   ]
  },
  {
   "cell_type": "markdown",
   "id": "be351ad4-2c4d-4d2c-ab7b-934a1ca85daf",
   "metadata": {},
   "source": [
    "AAE: h0: black annotations >= neutral annotations; h1: black annotations < neutral annotations"
   ]
  },
  {
   "cell_type": "code",
   "execution_count": null,
   "id": "80849720-84d8-489f-954d-53371f544522",
   "metadata": {},
   "outputs": [],
   "source": [
    "print(stats.ranksums(q_aae_b, q_aae_n, 'less'))\n",
    "print(stats.ranksums(q_aae_c, q_aae_n, 'greater'))"
   ]
  },
  {
   "cell_type": "code",
   "execution_count": null,
   "id": "02ba92f9-588d-4ac8-bc47-01f2592a7055",
   "metadata": {},
   "outputs": [],
   "source": [
    "print(stats.ranksums(m_aae_b, m_aae_n, 'less'))\n",
    "print(stats.ranksums(m_aae_c, m_aae_n, 'greater'))"
   ]
  },
  {
   "cell_type": "code",
   "execution_count": null,
   "id": "7e5462fd-4d22-4e23-ac59-8a174904ded3",
   "metadata": {},
   "outputs": [],
   "source": [
    "print(stats.ranksums(q_ab_b, q_ab_n, 'greater'))\n",
    "print(stats.ranksums(q_ab_c, q_ab_n, 'less'))"
   ]
  },
  {
   "cell_type": "code",
   "execution_count": null,
   "id": "bc8d26a3-df6b-41de-8831-ae0decbd7c2f",
   "metadata": {},
   "outputs": [],
   "source": [
    "print(stats.ranksums(m_ab_b, m_ab_n, 'greater'))\n",
    "print(stats.ranksums(m_ab_c, m_ab_n, 'less'))"
   ]
  },
  {
   "cell_type": "markdown",
   "id": "5a9ce501-4df5-40fb-b837-cc9f77de2398",
   "metadata": {},
   "source": [
    "#### Differences Per-Persona"
   ]
  },
  {
   "cell_type": "code",
   "execution_count": null,
   "id": "272b1906-5add-4bb7-a6b2-5898487f5ee2",
   "metadata": {},
   "outputs": [],
   "source": [
    "dict_diffs = {'Mistral': {'AAE': {}, 'Anti-Black': {}}, 'Qwen': {'AAE': {}, 'Anti-Black': {}}}"
   ]
  },
  {
   "cell_type": "code",
   "execution_count": null,
   "id": "69397a91-8bbc-41b2-b723-b322ffdb67a5",
   "metadata": {},
   "outputs": [],
   "source": [
    "for m in ['Mistral', 'Qwen']:\n",
    "    for t in ['AAE', 'Anti-Black']:\n",
    "        # persona_means_africanamerican = dict_results[m][t]['neutral_africanamerican'].iloc[:,10:].astype(int).mean()\n",
    "        persona_means_black = dict_results[m][t]['neutral_black'].iloc[:,10:].astype(int).mean()\n",
    "        persona_means_neutral = dict_results[m][t]['neutral_neutral'].iloc[:,10:].astype(int).mean()\n",
    "        persona_means_conservative = dict_results[m][t]['neutral_conservative'].iloc[:,10:].astype(int).mean()\n",
    "        # persona_means_white = dict_results[m][t]['neutral_white'].iloc[:,10:].astype(int).mean()\n",
    "        \n",
    "        # dict_diffs[m][t]['africanamerican'] = persona_means_africanamerican - persona_means_neutral\n",
    "        dict_diffs[m][t]['black'] = persona_means_black - persona_means_neutral\n",
    "        dict_diffs[m][t]['conservative'] = persona_means_conservative - persona_means_neutral\n",
    "        # dict_diffs[m][t]['white'] = persona_means_white - persona_means_neutral"
   ]
  },
  {
   "cell_type": "code",
   "execution_count": null,
   "id": "6e8d4d39-b63f-4c65-a358-ee2df48b4f49",
   "metadata": {},
   "outputs": [],
   "source": [
    "dict_extremes = {\n",
    "    'Mistral': {'min': 0, 'max': 0},\n",
    "    'Qwen': {'min': 0, 'max': 0}\n",
    "}\n",
    "\n",
    "for m_k, m_v in dict_diffs.items():\n",
    "    for t_k, t_v in m_v.items():\n",
    "        for p_k, p_v in t_v.items():\n",
    "            m_min, m_max = p_v.min(), p_v.max()\n",
    "            if m_min < dict_extremes[m_k]['min']:\n",
    "                dict_extremes[m_k]['min'] = m_min\n",
    "            if m_max > dict_extremes[m_k]['max']:\n",
    "                dict_extremes[m_k]['max'] = m_max"
   ]
  },
  {
   "cell_type": "code",
   "execution_count": null,
   "id": "cffcf5fb-526a-49ea-bb7c-63cf78671e05",
   "metadata": {},
   "outputs": [],
   "source": [
    "dict_diffs_mistral = {}\n",
    "for k,v in dict_diffs['Mistral']['AAE'].items():\n",
    "    dict_diffs_mistral['Mistral_AAE_'+k] = v\n",
    "for k,v in dict_diffs['Mistral']['Anti-Black'].items():\n",
    "    dict_diffs_mistral['Mistral_Anti-Black_'+k] = v\n",
    "\n",
    "dict_diffs_qwen = {}\n",
    "for k,v in dict_diffs['Qwen']['AAE'].items():\n",
    "    dict_diffs_qwen['Qwen_AAE_'+k] = v\n",
    "for k,v in dict_diffs['Qwen']['Anti-Black'].items():\n",
    "    dict_diffs_qwen['Qwen_Anti-Black_'+k] = v"
   ]
  },
  {
   "cell_type": "code",
   "execution_count": null,
   "id": "91d61b04-35c4-43f4-bb3a-3e80a09f06b6",
   "metadata": {},
   "outputs": [],
   "source": [
    "fig, axs = plt.subplots(1,2,figsize=(9,3))\n",
    "\n",
    "m_min, m_max = dict_extremes['Mistral']['min']*1.1, dict_extremes['Mistral']['max']*1.1\n",
    "axs[0].boxplot(dict_diffs_mistral.values())\n",
    "axs[0].set_ylim((m_min, m_max))\n",
    "axs[0].set_title('Mistral')\n",
    "# axs[0].set_xticks([1,2,3,4,5,6])\n",
    "# axs[0].set_xticklabels(['afr.-am.','black','cons.','afr.-am.','black','cons'])\n",
    "axs[0].set_xticks([1,2,3,4])\n",
    "axs[0].set_xticklabels(['black','cons.','black','cons.'])\n",
    "# axs[0].set_xticklabels(['black','white','black','white'])\n",
    "axs[0].plot((2.5,2.5),(m_min, m_max), color='black', linewidth=0.4)\n",
    "axs[0].plot((0.5,4.5),(0,0), color='blue', ls='--', linewidth=0.4)\n",
    "axs[0].text(0.65,m_max*1.02,'AAE')\n",
    "axs[0].text(3.5,m_max*1.02,'Anti-Black')\n",
    "\n",
    "q_min, q_max = dict_extremes['Qwen']['min']*1.1, dict_extremes['Qwen']['max']*1.1\n",
    "axs[1].boxplot(dict_diffs_qwen.values())\n",
    "axs[1].set_ylim((q_min, q_max))\n",
    "axs[1].set_title('Qwen')\n",
    "# axs[1].set_xticks([1,2,3,4,5,6])\n",
    "# axs[1].set_xticklabels(['afr.-am.','black','cons.','afr.-am.','black','cons'])\n",
    "axs[1].set_xticks([1,2,3,4])\n",
    "axs[1].set_xticklabels(['black','cons.','black','cons.'])\n",
    "# axs[1].set_xticklabels(['black','white','black','white'])\n",
    "axs[1].plot((2.5,2.5),(q_min, q_max), color='black', linewidth=0.4)\n",
    "axs[1].plot((0.5,4.5),(0,0), color='blue', ls='--', linewidth=0.4)\n",
    "axs[1].text(0.65,q_max*1.02,'AAE')\n",
    "axs[1].text(3.5,q_max*1.02,'Anti-Black')\n",
    "\n",
    "# plt.subplots_adjust(wspace=0.07)\n",
    "plt.savefig(os.path.join(resultsdir,modelname+'study_4_diff_boxplots.pdf'), bbox_inches='tight')\n",
    "plt.show()"
   ]
  },
  {
   "cell_type": "markdown",
   "id": "2c201e21-af25-4da0-b3b2-bf30847e6def",
   "metadata": {},
   "source": [
    "#### Differences Per-Instance"
   ]
  },
  {
   "cell_type": "code",
   "execution_count": null,
   "id": "eb39adc6-4a64-4517-9840-6890b40bd16d",
   "metadata": {},
   "outputs": [],
   "source": [
    "dict_diffs_instance = {'Mistral': {'AAE': {}, 'Anti-Black': {}}, 'Qwen': {'AAE': {}, 'Anti-Black': {}}}"
   ]
  },
  {
   "cell_type": "code",
   "execution_count": null,
   "id": "fb1b6fc0-01fc-49f2-aacf-80553d74f7ee",
   "metadata": {},
   "outputs": [],
   "source": [
    "for m in ['Mistral', 'Qwen']:\n",
    "    for t in ['AAE', 'Anti-Black']:\n",
    "        instance_means_black = dict_results[m][t]['neutral_black'].iloc[:,10:].astype(int).mean(axis=1)\n",
    "        instance_means_neutral = dict_results[m][t]['neutral_neutral'].iloc[:,10:].astype(int).mean(axis=1)\n",
    "        instance_means_conservative = dict_results[m][t]['neutral_conservative'].iloc[:,10:].astype(int).mean(axis=1)\n",
    "\n",
    "        pd_ = dict_results[m][t]['neutral_neutral'].iloc[:,:2]\n",
    "        pd_['mean_black'] = instance_means_black\n",
    "        pd_['mean_neutral'] = instance_means_neutral\n",
    "        pd_['mean_conservative'] = instance_means_conservative\n",
    "        pd_['black-conservative'] = instance_means_black - instance_means_conservative\n",
    "        \n",
    "        dict_diffs_instance[m][t] = pd_"
   ]
  },
  {
   "cell_type": "markdown",
   "id": "e5599888-352c-4672-a869-f7e50ee6cdfc",
   "metadata": {},
   "source": [
    "##### Finding: Black Personas recognize the use of the n-word as a reclaimed slur, making these instance those with the biggest difference between black and conservative toxicity scores"
   ]
  },
  {
   "cell_type": "markdown",
   "id": "485c4458-280a-4472-8b8c-aa387c31ef0a",
   "metadata": {},
   "source": [
    "QWEN"
   ]
  },
  {
   "cell_type": "code",
   "execution_count": null,
   "id": "d06de333-efe2-49ae-8baa-4864b0ba99ff",
   "metadata": {},
   "outputs": [],
   "source": [
    "dict_diffs_instance['Qwen']['AAE'].sort_values('black-conservative').head(3)"
   ]
  },
  {
   "cell_type": "code",
   "execution_count": null,
   "id": "c8b4f08f-bfc9-4c4b-96b4-d5d0079aa04d",
   "metadata": {},
   "outputs": [],
   "source": [
    "dict_diffs_instance['Qwen']['AAE'].sort_values('black-conservative').tail(3)"
   ]
  },
  {
   "cell_type": "code",
   "execution_count": null,
   "id": "3bdb0cfa-277f-404c-9492-7a17c53e4ea1",
   "metadata": {},
   "outputs": [],
   "source": [
    "for i,row in dict_diffs_instance['Qwen']['AAE'].sort_values('black-conservative', ascending=True).head(3).iterrows():\n",
    "    print(row['text'],'&',np.round(row['black-conservative'],2),'\\\\\\\\')"
   ]
  },
  {
   "cell_type": "markdown",
   "id": "d41c1543-df93-4818-8993-7ed5cf475ef2",
   "metadata": {},
   "source": [
    "MISTRAL"
   ]
  },
  {
   "cell_type": "code",
   "execution_count": null,
   "id": "4b3f7ffd-7ed4-41da-8fe4-a4d34443e39a",
   "metadata": {},
   "outputs": [],
   "source": [
    "dict_diffs_instance['Mistral']['AAE'].sort_values('black-conservative').head(3)"
   ]
  },
  {
   "cell_type": "code",
   "execution_count": null,
   "id": "7bf4196e-be30-45aa-92ad-7050155fbd51",
   "metadata": {},
   "outputs": [],
   "source": [
    "dict_diffs_instance['Mistral']['AAE'].sort_values('black-conservative').tail(3)"
   ]
  },
  {
   "cell_type": "code",
   "execution_count": null,
   "id": "7f8ce550-15db-4f62-bd5c-31b3a6161d45",
   "metadata": {},
   "outputs": [],
   "source": [
    "for i,row in dict_diffs_instance['Mistral']['AAE'].sort_values('black-conservative', ascending=True).head(3).iterrows():\n",
    "    print(row['text'],'&',np.round(row['black-conservative'],2),'\\\\\\\\')"
   ]
  },
  {
   "cell_type": "markdown",
   "id": "6467124c-2925-4239-b334-92540ba16081",
   "metadata": {},
   "source": [
    "##### Finding: Black Personas rate openly racist posts as much more toxic than the original \"baseline\" personas as well as their conservative counterparts do"
   ]
  },
  {
   "cell_type": "markdown",
   "id": "5ec1465c-3421-4ecb-8206-e18ae0d5a9bc",
   "metadata": {},
   "source": [
    "QWEN"
   ]
  },
  {
   "cell_type": "code",
   "execution_count": null,
   "id": "9dab1a24-176b-4e24-90e4-b007c57d2e8f",
   "metadata": {},
   "outputs": [],
   "source": [
    "dict_diffs_instance['Qwen']['Anti-Black'].sort_values('black-conservative', ascending=False).head(3)"
   ]
  },
  {
   "cell_type": "code",
   "execution_count": null,
   "id": "94628400-564b-45f6-84ab-a91f8f098689",
   "metadata": {},
   "outputs": [],
   "source": [
    "dict_diffs_instance['Qwen']['Anti-Black'].sort_values('black-conservative', ascending=False).tail(3)"
   ]
  },
  {
   "cell_type": "code",
   "execution_count": null,
   "id": "0085b9d7-2eb5-4e1f-a7da-d3098782917c",
   "metadata": {},
   "outputs": [],
   "source": [
    "for i,row in dict_diffs_instance['Qwen']['Anti-Black'].sort_values('black-conservative', ascending=False).head(3).iterrows():\n",
    "    print(row['text'],'&',np.round(row['black-conservative'],2),'\\\\\\\\')"
   ]
  },
  {
   "cell_type": "code",
   "execution_count": null,
   "id": "418d1046-a816-4c4a-a907-04f9bbb3caa8",
   "metadata": {},
   "outputs": [],
   "source": [
    "dict_diffs_instance['Mistral']['Anti-Black'].sort_values('black-conservative', ascending=False).head(3)"
   ]
  },
  {
   "cell_type": "code",
   "execution_count": null,
   "id": "64f6a425-ce4b-49a3-adc7-9434327b89bf",
   "metadata": {},
   "outputs": [],
   "source": [
    "dict_diffs_instance['Mistral']['Anti-Black'].sort_values('black-conservative', ascending=False).tail(3)"
   ]
  },
  {
   "cell_type": "code",
   "execution_count": null,
   "id": "9ae41c47-554a-4538-9fc3-e6e1f3ee8239",
   "metadata": {},
   "outputs": [],
   "source": [
    "for i,row in dict_diffs_instance['Mistral']['Anti-Black'].sort_values('black-conservative', ascending=False).head(3).iterrows():\n",
    "    print(row['text'],'&',np.round(row['black-conservative'],2),'\\\\\\\\')"
   ]
  }
 ],
 "metadata": {
  "kernelspec": {
   "display_name": "Python 3 (ipykernel)",
   "language": "python",
   "name": "python3"
  },
  "language_info": {
   "codemirror_mode": {
    "name": "ipython",
    "version": 3
   },
   "file_extension": ".py",
   "mimetype": "text/x-python",
   "name": "python",
   "nbconvert_exporter": "python",
   "pygments_lexer": "ipython3",
   "version": "3.11.9"
  }
 },
 "nbformat": 4,
 "nbformat_minor": 5
}

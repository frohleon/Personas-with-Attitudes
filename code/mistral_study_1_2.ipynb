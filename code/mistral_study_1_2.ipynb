{
 "cells": [
  {
   "cell_type": "code",
   "execution_count": null,
   "id": "8e3a49a9-498e-4d65-97ed-150fbe2c63f3",
   "metadata": {},
   "outputs": [],
   "source": [
    "# !pip install dataframe_image"
   ]
  },
  {
   "cell_type": "code",
   "execution_count": null,
   "id": "2ad9c592-1303-4acb-a021-bbd0a421f0f6",
   "metadata": {},
   "outputs": [],
   "source": [
    "import os, json, time, pickle\n",
    "import pandas as pd, numpy as np \n",
    "import matplotlib.pyplot as plt\n",
    "\n",
    "os.chdir('/home/jovyan/work/')\n",
    "\n",
    "modelname = 'mistral_'\n",
    "indatadir = os.path.join('personas', 'mistraldata_llm_1_2')\n",
    "outdatadir = os.path.join('personas', 'mistral_study_1_2')\n",
    "resultsdir = os.path.join('personas', 'mistralresults')"
   ]
  },
  {
   "cell_type": "code",
   "execution_count": null,
   "id": "59140d9d-f46a-42de-b93f-9c13df1d31ad",
   "metadata": {},
   "outputs": [],
   "source": [
    "import warnings\n",
    "warnings.simplefilter(action='ignore', category=FutureWarning)\n",
    "warnings.simplefilter(action=\"ignore\", category=pd.errors.PerformanceWarning)"
   ]
  },
  {
   "cell_type": "markdown",
   "id": "45bc1feb-4d99-4370-acfc-2bd93ce8658c",
   "metadata": {},
   "source": [
    "#### Load data and annotations"
   ]
  },
  {
   "cell_type": "markdown",
   "id": "be62cfce-28d4-404f-8d93-35304154b49d",
   "metadata": {},
   "source": [
    "Sap et al. large scale majority vote as \"groundtruth data\""
   ]
  },
  {
   "cell_type": "code",
   "execution_count": null,
   "id": "f5988627-8e2e-4e7f-95a8-b86af0cb99b1",
   "metadata": {},
   "outputs": [],
   "source": [
    "pd_data = pd.read_pickle('personas/data_ext/lscale_majVote.pkl')\n",
    "pd_data.head(3)"
   ]
  },
  {
   "cell_type": "markdown",
   "id": "6fe53db8-6c4a-4f83-86b5-f1cbdd378d3a",
   "metadata": {},
   "source": [
    "Load persona annotations on Sap et al. large scale data"
   ]
  },
  {
   "cell_type": "code",
   "execution_count": null,
   "id": "8c62c592-f6dd-4d78-a7a8-f9751c1bec36",
   "metadata": {},
   "outputs": [],
   "source": [
    "pd_persona = pd.read_pickle(os.path.join(indatadir, '1000_persona_you.pkl'))\n",
    "len(pd_persona.columns)"
   ]
  },
  {
   "cell_type": "code",
   "execution_count": null,
   "id": "82767130-f501-402f-ad1b-fba3bacabb7c",
   "metadata": {},
   "outputs": [],
   "source": [
    "pd_nopersona = pd.read_pickle(os.path.join(indatadir, '1000_nopersona_you.pkl'))\n",
    "len(pd_nopersona.columns)"
   ]
  },
  {
   "cell_type": "markdown",
   "id": "ee07a745-a39a-47bc-8517-343c3e653395",
   "metadata": {},
   "source": [
    "#### Analysis Functions"
   ]
  },
  {
   "cell_type": "code",
   "execution_count": null,
   "id": "fe654704-8b2c-46c2-a220-f22875dc55fc",
   "metadata": {},
   "outputs": [],
   "source": [
    "from sklearn.metrics import classification_report\n",
    "\n",
    "def votes_from_runs_crowd(pd_):\n",
    "    pd_results = pd.DataFrame()\n",
    "    for c in range(len(pd_.columns)):\n",
    "        sums = list(pd_.iloc[:,:(c+1)].sum(axis=1))\n",
    "        pd_results[f'run_{c}'] = [1 if s>(c+1)/2 else 0 for s in sums]\n",
    "    return pd_results\n",
    "\n",
    "def votes_from_runs_individual(pd_):\n",
    "    personas = [p.split('_')[1] for p in pd_.columns]\n",
    "    pd_.columns = [f'run_{i}' for i in range(len(pd_.columns))]\n",
    "    return pd_, personas\n",
    "\n",
    "def reports_from_votes(pd_, groundtruth_label):\n",
    "    results = []\n",
    "    for c in range(len(pd_.columns)):\n",
    "        results.append(classification_report(groundtruth_label, pd_[f'run_{c}'], output_dict=True))\n",
    "    return results\n",
    "\n",
    "def series_from_reports(list_, personas):\n",
    "    if personas:\n",
    "        pd_results = pd.DataFrame(personas, columns=['personaId'])\n",
    "    else:\n",
    "        pd_results = pd.DataFrame([i+1 for i in range(len(list_))], columns=['crowdsize'])\n",
    "    for e in ['0', '1']:\n",
    "        for k in list_[0][e].keys():\n",
    "            pd_results[e+'_'+k] = [l[e][k] for l in list_]\n",
    "    for k in list_[0]['macro avg'].keys():\n",
    "        pd_results['mavg'+'_'+k] = [l['macro avg'][k] for l in list_]\n",
    "    for k in list_[0]['weighted avg'].keys():\n",
    "        pd_results['wavg'+'_'+k] = [l['weighted avg'][k] for l in list_]\n",
    "    pd_results['accuracy'] = [l['accuracy'] for l in list_]\n",
    "    return pd_results.drop(['0_support','1_support','mavg_support','wavg_support'], axis=1)\n",
    "\n",
    "def plot_series(dict_results, savename):\n",
    "    fig, axs = plt.subplots(5, 3, figsize=(6,8))\n",
    "    for k_type, v_type in dict_results.items():\n",
    "        r,c = 0,0\n",
    "        for i in range(13):\n",
    "            for k_run, v_run in v_type['dfs'].items():\n",
    "                axs[r,c].plot(v_run.iloc[:,0], v_run.iloc[:,i+1], color=v_type['color'], label=v_type['label'], linewidth=0.5)\n",
    "                axs[r,c].set_ylim((0,1.05))\n",
    "                axs[r,c].title.set_text(v_run.columns[i+1])\n",
    "            if c < 2:\n",
    "                c += 1\n",
    "            else:\n",
    "                c = 0\n",
    "                r += 1\n",
    "    fig.delaxes(axs[4,1])\n",
    "    fig.delaxes(axs[4,2])\n",
    "    fig.tight_layout()\n",
    "    plt.savefig(os.path.join(resultsdir, modelname+f'{savename}.pdf'))\n",
    "    plt.show()\n",
    "\n",
    "def plot_single_series(dict_results, metric, savename):\n",
    "    fig, ax = plt.subplots(1, 1, figsize=(5,3))\n",
    "    min_s, max_s = 1, 0\n",
    "    for k_type, v_type in dict_results.items():\n",
    "        for k_run, v_run in v_type['dfs'].items():\n",
    "            ax.plot(v_run['crowdsize'], v_run[metric], color=v_type['color'], label=v_type['label'], linewidth=0.5)\n",
    "            min_r, max_r = v_run[metric].min(), v_run[metric].max()\n",
    "            min_s = min_r if min_r < min_s else min_s\n",
    "            max_s = max_r if max_r > max_s else max_s\n",
    "    ax.set_ylim((min_s-0.05,max_s+0.05))\n",
    "    ax.set(xlabel='crowd size', ylabel=metric)\n",
    "    plt.savefig(os.path.join(resultsdir, modelname+f'{savename}.pdf'))\n",
    "    plt.show()\n",
    "\n",
    "def plot_boxplots(dict_results, savename):\n",
    "    metrics = [list(v.columns) for k,v in dict_results.items()][0][1:]\n",
    "    fig, axs = plt.subplots(5, 3, figsize=(6,8))\n",
    "    r, c = 0, 0\n",
    "    for i in range(13):\n",
    "        data_ = {k: v.iloc[:,1+i] for k,v in dict_results.items()}\n",
    "        axs[r,c].boxplot(data_.values())\n",
    "        # axs[r,c].set_xticklabels(['p_you','np_you','p_any','np_any'], rotation=45)\n",
    "        axs[r,c].set_xticklabels(['p','np'], rotation=45)\n",
    "        # axs[r,c].set_xticklabels(['p','np','p-old','np-old'], rotation=45)\n",
    "        axs[r,c].set_ylim([0,1.05])\n",
    "        axs[r,c].title.set_text(metrics[i])\n",
    "        if c < 2:\n",
    "            c += 1\n",
    "        else:\n",
    "            c = 0\n",
    "            r += 1\n",
    "    fig.delaxes(axs[4,1])\n",
    "    fig.delaxes(axs[4,2])\n",
    "    fig.tight_layout()\n",
    "    plt.savefig(os.path.join(resultsdir, modelname+f'{savename}.pdf'))\n",
    "    plt.show()\n",
    "\n",
    "def plot_single_boxplot(dict_results, metric, savename):\n",
    "    fig, ax = plt.subplots(1,1, figsize=(5,3))\n",
    "    data_ = {k: v[metric] for k,v in dict_results.items()}\n",
    "    min_b, max_b = 1, 0\n",
    "    for v in data_.values():\n",
    "        min_b = v.min() if v.min() < min_b else min_b\n",
    "        max_b = v.max() if v.max() > max_b else max_b\n",
    "    ax.boxplot(data_.values())\n",
    "    ax.set_xticklabels(['p','np'])\n",
    "    # ax.set_xticklabels(['p','np','p-old','np-old'], rotation=45)\n",
    "    ax.set_ylim([min_b-0.05,max_b+0.05])\n",
    "    ax.set(ylabel=metric)\n",
    "    plt.savefig(os.path.join(resultsdir, modelname+f'{savename}.pdf'))\n",
    "    plt.show()\n",
    "\n",
    "import dataframe_image as dfi\n",
    "\n",
    "def create_table(dict_results, shorts, savename):\n",
    "    pd_scores = pd.DataFrame([list(v.columns) for k,v in dict_results.items()][0][1:], columns=['metric'])\n",
    "    for t in ['min','mean','50%', 'max']:\n",
    "        for k,v in dict_results.items():\n",
    "            pd_scores[f'{shorts[k]}_{t}'] = list(v.describe().loc[t,:])\n",
    "    pd_scores = np.round(pd_scores, 4)\n",
    "    dfi.export(pd_scores, os.path.join(resultsdir, modelname+f'{savename}.png'), table_conversion='matplotlib')\n",
    "    return pd_scores"
   ]
  },
  {
   "cell_type": "markdown",
   "id": "66c29952-0d89-4186-b379-513b37effdb6",
   "metadata": {},
   "source": [
    "#### Process Annotations"
   ]
  },
  {
   "cell_type": "code",
   "execution_count": null,
   "id": "93675128-16a8-4166-8c62-c0a4739b84bd",
   "metadata": {},
   "outputs": [],
   "source": [
    "groundtruth = pd_data['ogLabelToxic']\n",
    "size_crowd = 100\n",
    "\n",
    "raw_runs = {\n",
    "    'persona': {i: pd_persona.iloc[:,3+i*size_crowd:3+(i+1)*size_crowd].replace({'FALSE': 0, 'TRUE': 1}) for i in range(int((len(pd_persona.columns) - 3) / size_crowd))},\n",
    "    'nopersona': {i: pd_nopersona.iloc[:,3+i*size_crowd:3+(i+1)*size_crowd].replace({'FALSE': 0, 'TRUE': 1}) for i in range(int((len(pd_nopersona.columns) - 3) / size_crowd))},\n",
    "}"
   ]
  },
  {
   "cell_type": "code",
   "execution_count": null,
   "id": "07e13c84-42c5-4be3-9845-989c42653113",
   "metadata": {},
   "outputs": [],
   "source": [
    "results_runs_series = {}\n",
    "dict_results_boxplots = {}\n",
    "\n",
    "for k_type, v_type in raw_runs.items():\n",
    "    results_runs_series[k_type] = {}\n",
    "    pd_boxplots = pd.DataFrame()\n",
    "    for k_run, v_run in v_type.items():\n",
    "        votes = votes_from_runs_crowd(v_run)\n",
    "        reports = reports_from_votes(votes, groundtruth)\n",
    "        results_runs_series[k_type][k_run] = series_from_reports(reports, None)\n",
    "        pd_boxplots = pd.concat([pd_boxplots, v_run], axis=1)\n",
    "    pd_boxplots, personas = votes_from_runs_individual(pd_boxplots)\n",
    "    reports = reports_from_votes(pd_boxplots, groundtruth)\n",
    "    dict_results_boxplots[k_type] = series_from_reports(reports, personas)"
   ]
  },
  {
   "cell_type": "code",
   "execution_count": null,
   "id": "47758043-845f-46fa-99ee-a3ef9987be9b",
   "metadata": {},
   "outputs": [],
   "source": [
    "dict_results_series = {\n",
    "    'persona': {'dfs': results_runs_series['persona'], 'color': 'blue', 'label': 'persona'},\n",
    "    'nopersona': {'dfs': results_runs_series['nopersona'], 'color': 'red', 'label': 'no persona you'},\n",
    "}"
   ]
  },
  {
   "cell_type": "markdown",
   "id": "94321c00-aa4a-4209-8acc-c808b79950fd",
   "metadata": {},
   "source": [
    "#### Show Descriptive Results"
   ]
  },
  {
   "cell_type": "code",
   "execution_count": null,
   "id": "99972f89-597f-44ae-bc90-98bb36e1e011",
   "metadata": {},
   "outputs": [],
   "source": [
    "plot_single_series(dict_results_series, 'mavg_f1-score', 'study_1_crowds_mavg_f1-score')"
   ]
  },
  {
   "cell_type": "code",
   "execution_count": null,
   "id": "b73e1809-42af-4f10-99c3-738177003ebc",
   "metadata": {},
   "outputs": [],
   "source": [
    "plot_series(dict_results_series, 'study_1_crowds')"
   ]
  },
  {
   "cell_type": "code",
   "execution_count": null,
   "id": "e6266679-ce8d-43ab-a1d4-6ac409b95f02",
   "metadata": {},
   "outputs": [],
   "source": [
    "plot_single_boxplot(dict_results_boxplots, 'mavg_f1-score','study_2_boxplots_mavg_f1-score')"
   ]
  },
  {
   "cell_type": "code",
   "execution_count": null,
   "id": "4c0aa396-6e73-4174-bf01-fd55130278f3",
   "metadata": {},
   "outputs": [],
   "source": [
    "plot_boxplots(dict_results_boxplots, 'study_2_boxplots')"
   ]
  },
  {
   "cell_type": "code",
   "execution_count": null,
   "id": "726e6155-8d72-4553-b360-8924b59b8ed2",
   "metadata": {},
   "outputs": [],
   "source": [
    "shorts = {\n",
    "    'persona': 'p',\n",
    "    'nopersona': 'np',\n",
    "}\n",
    "\n",
    "create_table(dict_results_boxplots, shorts, 'study_2_table')"
   ]
  },
  {
   "cell_type": "markdown",
   "id": "35872fc3-59a1-4bbb-bc3c-52bf304f88b3",
   "metadata": {},
   "source": [
    "#### Hypothesis Testing for Equality of Distributions"
   ]
  },
  {
   "cell_type": "code",
   "execution_count": null,
   "id": "98f192f0-7534-437c-9db8-8881996f4846",
   "metadata": {},
   "outputs": [],
   "source": [
    "from scipy.stats import ranksums, ks_2samp\n",
    "\n",
    "metrics = [list(v.columns) for k,v in dict_results_boxplots.items()][0][1:]\n",
    "\n",
    "for m in metrics:\n",
    "    data_p = dict_results_boxplots['persona'][m]\n",
    "    data_np = dict_results_boxplots['nopersona'][m]\n",
    "    test_wc = ranksums(data_p, data_np)\n",
    "    decision_wc = 'Reject H_0' if test_wc.pvalue < 0.05 else 'Do not reject H_0'\n",
    "    test_ks = ks_2samp(data_p, data_np)\n",
    "    decision_ks = 'Reject H_0' if test_ks.pvalue < 0.05 else 'Do not reject H_0'\n",
    "    print(f'{m}:\\tWilcoxon\\t{np.round(test_wc.statistic,2)}\\t{test_wc.pvalue}\\t{decision_wc}\\n\\t\\tKS\\t\\t{np.round(test_ks.statistic,2)}\\t{test_ks.pvalue}\\t{decision_ks}')"
   ]
  },
  {
   "cell_type": "markdown",
   "id": "350269b2-4929-4e79-aef6-7e0971a69c4d",
   "metadata": {},
   "source": [
    "#### Simulate Crowd Trajectory Permutations"
   ]
  },
  {
   "cell_type": "code",
   "execution_count": null,
   "id": "85366c16-6c84-43b6-a429-55b1632bd13e",
   "metadata": {},
   "outputs": [],
   "source": [
    "n_permutations = 1000\n",
    "crowd_size = 100"
   ]
  },
  {
   "cell_type": "markdown",
   "id": "093e32ac-dffd-4606-895f-b0a1bce5792a",
   "metadata": {},
   "source": [
    "permutations of persona crowds"
   ]
  },
  {
   "cell_type": "code",
   "execution_count": null,
   "id": "2e44e08d-2d42-4e71-a3d7-801c1b98b261",
   "metadata": {},
   "outputs": [],
   "source": [
    "pd_persona_you = pd.read_pickle(os.path.join(indatadir,'1000_persona_you.pkl'))\n",
    "pd_meta = pd_persona_you.iloc[:,:3]\n",
    "pd_persona_you = pd_persona_you.iloc[:,3:]\n",
    "\n",
    "pd_persona_crowd0 = pd_persona_you.sample(crowd_size, axis=1, random_state=1).replace({'FALSE': 0, 'TRUE': 1})\n",
    "persona_permutations = {i: pd_persona_crowd0.sample(crowd_size, axis=1, random_state=i) for i in range(n_permutations)}"
   ]
  },
  {
   "cell_type": "markdown",
   "id": "80a17481-15eb-4753-b113-cd36529143fa",
   "metadata": {},
   "source": [
    "permutations of nopersona crowds"
   ]
  },
  {
   "cell_type": "code",
   "execution_count": null,
   "id": "fddb3d07-c3f4-45f9-b682-37b99c9a60a6",
   "metadata": {},
   "outputs": [],
   "source": [
    "pd_nopersona_you = pd.read_pickle(os.path.join(indatadir,'1000_nopersona_you.pkl'))\n",
    "pd_meta = pd_nopersona_you.iloc[:,:3]\n",
    "pd_nopersona_you = pd_nopersona_you.iloc[:,3:]\n",
    "\n",
    "pd_random_crowd0 = pd_nopersona_you.sample(crowd_size, axis=1, random_state=1).replace({'FALSE': 0, 'TRUE': 1})\n",
    "random_permutations = {i: pd_random_crowd0.sample(crowd_size, axis=1, random_state=i) for i in range(n_permutations)}"
   ]
  },
  {
   "cell_type": "code",
   "execution_count": null,
   "id": "44f5f749-966d-4911-bbde-4dd1eb8470a2",
   "metadata": {},
   "outputs": [],
   "source": [
    "raw_runs = {\n",
    "    'persona_permutations': persona_permutations,\n",
    "    'random_permutations': random_permutations\n",
    "}"
   ]
  },
  {
   "cell_type": "code",
   "execution_count": null,
   "id": "105ef981-e816-4b35-ad3d-69cace1404a0",
   "metadata": {},
   "outputs": [],
   "source": [
    "permutations_series = {}\n",
    "\n",
    "for k_type, v_type in raw_runs.items():\n",
    "    permutations_series[k_type] = {}\n",
    "    for k_run, v_run in v_type.items():\n",
    "        votes = votes_from_runs_crowd(v_run)\n",
    "        reports = reports_from_votes(votes, groundtruth)\n",
    "        permutations_series[k_type][k_run] = series_from_reports(reports, None)"
   ]
  },
  {
   "cell_type": "code",
   "execution_count": null,
   "id": "1db6c8c2-ef2a-4158-84bb-48fff26395e0",
   "metadata": {},
   "outputs": [],
   "source": [
    "dict_permutations_series = {\n",
    "    'persona_permutations': {'dfs': permutations_series['persona_permutations'], 'color': 'blue', 'label': 'persona permutations'},\n",
    "    'random_permutations': {'dfs': permutations_series['random_permutations'], 'color': 'red', 'label': 'random permutations'},\n",
    "}"
   ]
  },
  {
   "cell_type": "code",
   "execution_count": null,
   "id": "cc8466a3-33e4-4b75-adb3-2856a9ecb7b2",
   "metadata": {},
   "outputs": [],
   "source": [
    "with open(os.path.join(outdatadir,'crowd_permutations.pkl'), 'wb') as f:\n",
    "    pickle.dump(dict_permutations_series, f)"
   ]
  },
  {
   "cell_type": "code",
   "execution_count": null,
   "id": "864ccff5-0db2-43d5-8a01-ffae5e5b58c1",
   "metadata": {},
   "outputs": [],
   "source": [
    "with open(os.path.join(outdatadir,'crowd_permutations.pkl'), 'rb') as f:\n",
    "    dict_permutations_series = pickle.load(f)"
   ]
  },
  {
   "cell_type": "code",
   "execution_count": null,
   "id": "0aea8e99-28c6-47ee-847d-1da6d7002f2f",
   "metadata": {},
   "outputs": [],
   "source": [
    "plot_single_series(dict_permutations_series, 'mavg_f1-score', 'study_1_permutations_mavg_f1-score')"
   ]
  },
  {
   "cell_type": "code",
   "execution_count": null,
   "id": "2033d046-3375-4222-a908-8b21e6ea2972",
   "metadata": {},
   "outputs": [],
   "source": [
    "plot_series(dict_permutations_series, 'study_1_permutations')"
   ]
  },
  {
   "cell_type": "markdown",
   "id": "43655f8e-2410-4d18-9df9-0731769c2914",
   "metadata": {},
   "source": [
    "#### Stability Experiments"
   ]
  },
  {
   "cell_type": "markdown",
   "id": "65370444-60fd-427a-82e9-da8af6c61552",
   "metadata": {},
   "source": [
    "create performance brackets"
   ]
  },
  {
   "cell_type": "code",
   "execution_count": null,
   "id": "7cb9ce62-95b7-4f85-98f4-e16d85ae134b",
   "metadata": {},
   "outputs": [],
   "source": [
    "brackets = pd.DataFrame()\n",
    "\n",
    "performances = dict_results_boxplots['persona'].sort_values('mavg_f1-score', ascending=True)\n",
    "\n",
    "brackets = pd.concat([brackets, performances.iloc[:30]])\n",
    "brackets = pd.concat([brackets, performances.iloc[486:516]])\n",
    "brackets = pd.concat([brackets, performances.iloc[-30:]])\n",
    "\n",
    "brackets['bracket'] = ['w' for i in range(30)] + ['m' for i in range(30)] + ['b' for i in range(30)]\n",
    "brackets = brackets.reset_index(drop=True)"
   ]
  },
  {
   "cell_type": "code",
   "execution_count": null,
   "id": "43df257e-d1e2-4154-aeb7-899686f9560e",
   "metadata": {},
   "outputs": [],
   "source": [
    "brackets.head(2)"
   ]
  },
  {
   "cell_type": "code",
   "execution_count": null,
   "id": "cf264bc5-84f8-4e1d-9142-f008f3038f75",
   "metadata": {},
   "outputs": [],
   "source": [
    "brackets.tail(2)"
   ]
  },
  {
   "cell_type": "code",
   "execution_count": null,
   "id": "b960b75d-4a6e-48f4-bb25-cee4521f2bd1",
   "metadata": {},
   "outputs": [],
   "source": [
    "# brackets.to_pickle(os.path.join(outdatadir,'performance_brackets.pkl'))"
   ]
  },
  {
   "cell_type": "code",
   "execution_count": null,
   "id": "192efecf-ea87-417e-87dd-a44b45df3d43",
   "metadata": {},
   "outputs": [],
   "source": [
    "brackets = pd.read_pickle(os.path.join(outdatadir,'performance_brackets.pkl'))"
   ]
  },
  {
   "cell_type": "markdown",
   "id": "1c6a86d7-4607-4934-ae8b-4ba641a736f9",
   "metadata": {},
   "source": [
    "---> sent to qwen_llm_1_2 file for re-annotation of bracket personas"
   ]
  },
  {
   "cell_type": "markdown",
   "id": "0c0d082f-daad-4e03-b298-eda88fe27c3a",
   "metadata": {},
   "source": [
    "process re-annotation of bracket personas"
   ]
  },
  {
   "cell_type": "code",
   "execution_count": null,
   "id": "e5b85e99-6d63-4b40-9d87-8ae85a3a309c",
   "metadata": {},
   "outputs": [],
   "source": [
    "def series_for_persona(list_):\n",
    "    pd_results = pd.DataFrame([f'run_{i}' for i in range(len(list_))], columns=['run'])\n",
    "    for e in ['0', '1']:\n",
    "        for k in list_[0][e].keys():\n",
    "            pd_results[e+'_'+k] = [l[e][k] for l in list_]\n",
    "    for k in list_[0]['macro avg'].keys():\n",
    "        pd_results['mavg'+'_'+k] = [l['macro avg'][k] for l in list_]\n",
    "    for k in list_[0]['weighted avg'].keys():\n",
    "        pd_results['wavg'+'_'+k] = [l['weighted avg'][k] for l in list_]\n",
    "    pd_results['accuracy'] = [l['accuracy'] for l in list_]\n",
    "    return pd_results.drop(['0_support','1_support','mavg_support','wavg_support'], axis=1)"
   ]
  },
  {
   "cell_type": "code",
   "execution_count": null,
   "id": "d132ff37-cb78-49c7-bee0-70bbc34edeb4",
   "metadata": {},
   "outputs": [],
   "source": [
    "with open(os.path.join(outdatadir,'performance_brackets_results.pkl'), 'rb') as f:\n",
    "    brackets_annotated = pickle.load(f)"
   ]
  },
  {
   "cell_type": "code",
   "execution_count": null,
   "id": "edf47316-d529-42b5-bd5e-a6173caf8424",
   "metadata": {},
   "outputs": [],
   "source": [
    "for k,v in brackets_annotated.items():\n",
    "    brackets_annotated[k] = v.replace({'TRUE': 1, 'FALSE': 0})"
   ]
  },
  {
   "cell_type": "code",
   "execution_count": null,
   "id": "3f7360b2-f18a-464c-ba84-52808bb43380",
   "metadata": {},
   "outputs": [],
   "source": [
    "pd_data = pd.read_pickle('personas/data_ext/lscale_majVote.pkl')\n",
    "groundtruth = pd_data['ogLabelToxic']\n",
    "pd_data.head(2)"
   ]
  },
  {
   "cell_type": "code",
   "execution_count": null,
   "id": "bbf2f359-9d8a-4afc-8571-3afd21eca0b9",
   "metadata": {},
   "outputs": [],
   "source": [
    "bracket_scores = {}\n",
    "\n",
    "for k,v in brackets_annotated.items():\n",
    "    reports = reports_from_votes(v.iloc[:,2:], groundtruth)\n",
    "    bracket_scores[k] = series_for_persona(reports)"
   ]
  },
  {
   "cell_type": "code",
   "execution_count": null,
   "id": "a49dea0c-07df-4889-92a7-33e9a17ec2a5",
   "metadata": {},
   "outputs": [],
   "source": [
    "bracket_boxplots = {}\n",
    "labels_boxplots = []\n",
    "\n",
    "for i, row in brackets.iterrows():\n",
    "    pid = int(row['personaId']) \n",
    "    if  pid in bracket_scores.keys():\n",
    "        bracket_boxplots[pid] = bracket_scores[pid]['mavg_f1-score']\n",
    "        labels_boxplots.append(row['bracket']+str(i))\n",
    "    else:\n",
    "        continue"
   ]
  },
  {
   "cell_type": "code",
   "execution_count": null,
   "id": "8894a491-6f31-41df-9804-f235c27f9a2d",
   "metadata": {},
   "outputs": [],
   "source": [
    "boxplot_data = {'data_': {k: v['mavg_f1-score'] for k,v in dict_results_boxplots.items()},\n",
    "               'bracket_boxplots': bracket_boxplots,\n",
    "               'brackets': brackets}\n",
    "\n",
    "with open(os.path.join('personas','joint_results','mistral_stability.pkl'), 'wb') as f:\n",
    "    pickle.dump(boxplot_data, f)"
   ]
  },
  {
   "cell_type": "code",
   "execution_count": null,
   "id": "711da943-4ac5-4813-b470-5dc725064ef8",
   "metadata": {},
   "outputs": [],
   "source": [
    "fig, (im1, im2) = plt.subplots(1,2,figsize=(11,4),gridspec_kw={'width_ratios': [1, 5]})\n",
    "\n",
    "data_ = {k: v['mavg_f1-score'] for k,v in dict_results_boxplots.items()}\n",
    "im1.boxplot(data_.values(), widths=0.7)\n",
    "im1.set_xticklabels(['pers.','no pers.']) #, rotation=45)\n",
    "im1.set_ylabel('mavg_f1-score')\n",
    "im1.set_ylim((0.35,0.85))\n",
    "im1.set_title('a)')\n",
    "\n",
    "im2.boxplot(bracket_boxplots.values())\n",
    "im2.set_xlim((-2,92)) # create whitespace left and right\n",
    "im2.set_ylim((0.35,0.85))\n",
    "im2.plot([i+1 for i in range(len(brackets))], brackets['mavg_f1-score'], linestyle='', marker='o', markersize=2, mec='red')\n",
    "im2.set_xticks([15,45,75], ['30 min personas', '30 median persona', '30 max personas'])\n",
    "im2.set_yticks([])\n",
    "im2.set_title('b)')\n",
    "\n",
    "plt.subplots_adjust(wspace=0.02)\n",
    "plt.savefig(os.path.join(resultsdir, modelname+'study_2_stability.png'), bbox_inches='tight')\n",
    "plt.show()"
   ]
  }
 ],
 "metadata": {
  "kernelspec": {
   "display_name": "Python 3 (ipykernel)",
   "language": "python",
   "name": "python3"
  },
  "language_info": {
   "codemirror_mode": {
    "name": "ipython",
    "version": 3
   },
   "file_extension": ".py",
   "mimetype": "text/x-python",
   "name": "python",
   "nbconvert_exporter": "python",
   "pygments_lexer": "ipython3",
   "version": "3.11.9"
  }
 },
 "nbformat": 4,
 "nbformat_minor": 5
}
